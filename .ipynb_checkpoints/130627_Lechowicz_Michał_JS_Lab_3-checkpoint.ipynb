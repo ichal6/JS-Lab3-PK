{
 "cells": [
  {
   "cell_type": "markdown",
   "metadata": {
    "deletable": false,
    "editable": false,
    "nbgrader": {
     "cell_type": "markdown",
     "checksum": "f47b80ecdd491d5e5bbc9ffb30a83153",
     "grade": false,
     "grade_id": "cell-4b34e804a6520a5c",
     "locked": true,
     "schema_version": 3,
     "solution": false
    }
   },
   "source": [
    "# Języki symboliczne - rok akademicki 2021/2022\n",
    "\n",
    "Przed rozpoczęciem pracy z notatnikiem zmień jego nazwę zgodnie z wzorem: `NrAlbumu_Nazwisko_Imie_PoprzedniaNazwa`\n",
    "\n",
    "Przed wysłaniem notatnika upewnij się, że rozwiązałeś wszystkie zadania/ćwiczenia, w szczególności, że uzupełniłeś wszystkie pola `YOUR CODE HERE` oraz `YOUR ANSWER HERE`."
   ]
  },
  {
   "cell_type": "markdown",
   "metadata": {
    "deletable": false,
    "editable": false,
    "nbgrader": {
     "cell_type": "markdown",
     "checksum": "e1d662837fee3db0beecb77037f49a4d",
     "grade": false,
     "grade_id": "cell-ec984842bc599089",
     "locked": true,
     "schema_version": 3,
     "solution": false
    }
   },
   "source": [
    "# Temat_3a:\n",
    "# Moduły. Pakiety. Praca z plikami tekstowymi.\n",
    "Zapoznaj się z treścią niniejszego notatnika czytając i wykonując go komórka po komórce. Wykonaj napotkane zadania/ćwiczenia.\n",
    "\n",
    "## Skrypty.\n",
    "\n",
    "Dowolny, poprawnie działający kod pisany np. w tym Notebook-u możemy zapisać w zewnętrznym pliku tekstowym. Plik tekstowy z rozszerzeniem `.py` zawierający kod w języku `Python` można potraktować na dwa sposoby: jako skrypt (program) lub moduł (jak np. moduł `math`).\n",
    "\n",
    "Zgodnie z konwencją, skrypty języka `Python` mają nazwy zakończone rozszerzeniem `.py`. Aby wykonać plik `test.py` należy w terminalu (konsoli, Anaconda Prompt) wykonać polecenie:\n",
    "\n",
    "`python test.py`\n",
    "\n",
    "__Uwaga:__ Należy być w folderze w którym jest plik `test.py` lub podać pełną ścieżkę do pliku."
   ]
  },
  {
   "cell_type": "markdown",
   "metadata": {
    "deletable": false,
    "editable": false,
    "nbgrader": {
     "cell_type": "markdown",
     "checksum": "70e31f051ae04807be3db5f94dfaf6c2",
     "grade": false,
     "grade_id": "cell-64bc7d8fdc6fd19a",
     "locked": true,
     "schema_version": 3,
     "solution": false,
     "task": false
    }
   },
   "source": [
    "W pliku `test.py` wpisz następujący kod:\n",
    "```python\n",
    "def suma(a,b):\n",
    "    return a+b\n",
    "\n",
    "def roznica(a,b):\n",
    "    return a-b\n",
    "\n",
    "PI = 3.1415\n",
    "\n",
    "print(suma(3,5))\n",
    "print(PI)\n",
    "```\n",
    "a następnie przejdź do konsoli i uruchom skrypt."
   ]
  },
  {
   "cell_type": "markdown",
   "metadata": {
    "deletable": false,
    "editable": false,
    "nbgrader": {
     "cell_type": "markdown",
     "checksum": "7939455fd46763ffc7d27a887383548a",
     "grade": false,
     "grade_id": "cell-dcdb4fdab9b2babc",
     "locked": true,
     "schema_version": 3,
     "solution": false,
     "task": false
    }
   },
   "source": [
    "### Ćwiczenie 1a\n",
    "Napisz skrypt (plik `cw_1.py`), który pyta użytkownika:\n",
    "\n",
    "`Czy świeci słońce?`\n",
    "\n",
    "- Jeżeli użytkownik napisze `tak`, skrypt odpowiada: `Co tu robisz?`.\n",
    "- Jeżeli użytkownik napisze `nie`, skrypt odpowiada: `Pracuj dalej!`.\n",
    "- Jeżeli użytkownik napisze cokolwiek innego, skrypt odpowiada `Przepraszam, nie rozumiem`.\n",
    "\n",
    "__Uwaga__: Będąc np. w notatniku (takim zwykłym w Windows) zapisz plik używając kodowania UTF-8. Przejdź do konsoli i uruchom skrypt."
   ]
  },
  {
   "cell_type": "code",
   "execution_count": 4,
   "metadata": {
    "deletable": false,
    "nbgrader": {
     "cell_type": "code",
     "checksum": "90d5c41301cd02d69bb53bca3e6c1274",
     "grade": false,
     "grade_id": "cell-4e56e68e2ac12503",
     "locked": false,
     "schema_version": 3,
     "solution": true,
     "task": false
    }
   },
   "outputs": [
    {
     "name": "stdout",
     "output_type": "stream",
     "text": [
      "Czy świeci słońce? sdsd\n",
      "Przepraszam, nie rozumiem\n"
     ]
    }
   ],
   "source": [
    "# YOUR CODE HERE\n",
    "answer = input(\"Czy świeci słońce? \")\n",
    "\n",
    "if(answer.lower() == \"tak\"):\n",
    "    print(\"Co tu robisz?\")\n",
    "elif(answer.lower() == \"nie\"):\n",
    "    print(\"Pracuj dalej!\")\n",
    "else:\n",
    "    print(\"Przepraszam, nie rozumiem\")\n",
    "#raise NotImplementedError()"
   ]
  },
  {
   "cell_type": "markdown",
   "metadata": {
    "deletable": false,
    "editable": false,
    "nbgrader": {
     "cell_type": "markdown",
     "checksum": "cedaa6d8ff2e4fbb7a763557c300f824",
     "grade": false,
     "grade_id": "cell-8857082ab63567a2",
     "locked": true,
     "schema_version": 3,
     "solution": false,
     "task": false
    }
   },
   "source": [
    "## Moduły.\n",
    "\n",
    "https://docs.python.org/3/tutorial/modules.html\n",
    "\n",
    "- Moduł jest plikiem (z rozszerzeniem .py) zawierającym definicje Pythona i jego instrukcje.\n",
    "- Moduł importujemy używając słowa kluczowego `import`: \n",
    "\n",
    "```python \n",
    "import nazwa_modułu\n",
    "```\n",
    "\n",
    "- Nazwa modułu jest nazwą pliku pozbawioną rozszerzenia .py.\n",
    "- Nazwa modułu dostępna jest w module jako wartość zmiennej globalnej `__name__`.\n",
    "- Jeżeli w module zdefiniowano funkcje o nazwie `f`, to aby jej użyć trzeba zastosować konstrukcje `nazwa_modulu.f()`.\n",
    "- Moduł może zawierać instrukcje wykonywalne obok definicji funkcji. Instrukcje te mają na celu inicjalizacje modułu - wykonywane są tylko w chwili importowania modułu po raz pierwszy.\n",
    "- Każdy z modułów posiada swoją prywatną tablicę symboli, która używana jest przez wszystkie funkcje zdefiniowane w module jako globalna tablica symboli.\n",
    "- Moduły mogą importować inne moduły.\n",
    "- Ze względów wydajnościowych moduły są importowane raz w trakcie sesji interpretera. W razie ich zmiany należy zrestartować interpreter lub przeładować pojedynczy moduł (używając metody `reload()` z modułu `imp`) np.: \n",
    "```python\n",
    "import imp; imp.reload(modulename)\n",
    "```\n",
    "- Wszystkie załadowane moduły możemy sprawdzić wypisując zmienną `sys.modules`\n",
    "\n",
    "Inne warianty instrukcji `import`: \n",
    "- importuje nazwy z modułu wprost do tablicy symboli,\n",
    "\n",
    "```python \n",
    "from nazwa_modulu import f\n",
    "```\n",
    "\n",
    "- importuje wszystkie nazwy z modułu za wyjątkiem tych, które zaczynają się od znaku `_`,\n",
    "\n",
    "```python \n",
    "from nazwa_modulu import *\n",
    "```\n",
    "\n",
    "- można nadawać własne aliasy do importowanych modułów.\n",
    "\n",
    "```python \n",
    "import nazwa_modulu as nowa_nazwa\n",
    "```"
   ]
  },
  {
   "cell_type": "code",
   "execution_count": 1,
   "metadata": {},
   "outputs": [
    {
     "name": "stdout",
     "output_type": "stream",
     "text": [
      "8\n",
      "3.1415\n"
     ]
    }
   ],
   "source": [
    "# wczytanie modułu test.py\n",
    "import test "
   ]
  },
  {
   "cell_type": "code",
   "execution_count": 2,
   "metadata": {},
   "outputs": [
    {
     "data": {
      "text/plain": [
       "3.1415"
      ]
     },
     "execution_count": 2,
     "metadata": {},
     "output_type": "execute_result"
    }
   ],
   "source": [
    "# odwołanie do zmiennej PI w module test\n",
    "test.PI "
   ]
  },
  {
   "cell_type": "code",
   "execution_count": 3,
   "metadata": {},
   "outputs": [
    {
     "data": {
      "text/plain": [
       "7"
      ]
     },
     "execution_count": 3,
     "metadata": {},
     "output_type": "execute_result"
    }
   ],
   "source": [
    "# odwołanie do funkcji suma w module test\n",
    "test.suma(2, 5) "
   ]
  },
  {
   "cell_type": "code",
   "execution_count": 4,
   "metadata": {},
   "outputs": [
    {
     "name": "stdout",
     "output_type": "stream",
     "text": [
      "3.1415\n"
     ]
    },
    {
     "data": {
      "text/plain": [
       "1"
      ]
     },
     "execution_count": 4,
     "metadata": {},
     "output_type": "execute_result"
    }
   ],
   "source": [
    "import test as t  # alias t do modułu test\n",
    "print(t.PI)\n",
    "t.roznica(3, 2)"
   ]
  },
  {
   "cell_type": "markdown",
   "metadata": {
    "deletable": false,
    "editable": false,
    "nbgrader": {
     "cell_type": "markdown",
     "checksum": "65438c2a531116d88b6df0eae9dbea4d",
     "grade": false,
     "grade_id": "cell-a20540b9ac552fb5",
     "locked": true,
     "schema_version": 3,
     "solution": false,
     "task": false
    }
   },
   "source": [
    "Wybrane atrybuty dostępne dla modułów (np. modułu o nazwie `m.py`):\n",
    "\n",
    "- `m.__name__` nazwa modułu\n",
    "- `m._file__` plik z którego został załadowany moduł\n",
    "- `m.__dict__` słownik skojarzony z modułem"
   ]
  },
  {
   "cell_type": "code",
   "execution_count": 5,
   "metadata": {},
   "outputs": [
    {
     "name": "stdout",
     "output_type": "stream",
     "text": [
      "test\n",
      "D:\\Dane Użytkowników\\Michał\\MEGA\\PK\\Semestr_5\\JS\\Notebooki z zajęć\\Moje\\Lab3\\test.py\n"
     ]
    },
    {
     "data": {
      "text/plain": [
       "{'__name__': 'test',\n",
       " '__doc__': None,\n",
       " '__package__': '',\n",
       " '__loader__': <_frozen_importlib_external.SourceFileLoader at 0x286957d5ca0>,\n",
       " '__spec__': ModuleSpec(name='test', loader=<_frozen_importlib_external.SourceFileLoader object at 0x00000286957D5CA0>, origin='D:\\\\Dane Użytkowników\\\\Michał\\\\MEGA\\\\PK\\\\Semestr_5\\\\JS\\\\Notebooki z zajęć\\\\Moje\\\\Lab3\\\\test.py'),\n",
       " '__file__': 'D:\\\\Dane Użytkowników\\\\Michał\\\\MEGA\\\\PK\\\\Semestr_5\\\\JS\\\\Notebooki z zajęć\\\\Moje\\\\Lab3\\\\test.py',\n",
       " '__cached__': 'D:\\\\Dane Użytkowników\\\\Michał\\\\MEGA\\\\PK\\\\Semestr_5\\\\JS\\\\Notebooki z zajęć\\\\Moje\\\\Lab3\\\\__pycache__\\\\test.cpython-38.pyc',\n",
       " '__builtins__': {'__name__': 'builtins',\n",
       "  '__doc__': \"Built-in functions, exceptions, and other objects.\\n\\nNoteworthy: None is the `nil' object; Ellipsis represents `...' in slices.\",\n",
       "  '__package__': '',\n",
       "  '__loader__': _frozen_importlib.BuiltinImporter,\n",
       "  '__spec__': ModuleSpec(name='builtins', loader=<class '_frozen_importlib.BuiltinImporter'>),\n",
       "  '__build_class__': <function __build_class__>,\n",
       "  '__import__': <function __import__>,\n",
       "  'abs': <function abs(x, /)>,\n",
       "  'all': <function all(iterable, /)>,\n",
       "  'any': <function any(iterable, /)>,\n",
       "  'ascii': <function ascii(obj, /)>,\n",
       "  'bin': <function bin(number, /)>,\n",
       "  'breakpoint': <function breakpoint>,\n",
       "  'callable': <function callable(obj, /)>,\n",
       "  'chr': <function chr(i, /)>,\n",
       "  'compile': <function compile(source, filename, mode, flags=0, dont_inherit=False, optimize=-1, *, _feature_version=-1)>,\n",
       "  'delattr': <function delattr(obj, name, /)>,\n",
       "  'dir': <function dir>,\n",
       "  'divmod': <function divmod(x, y, /)>,\n",
       "  'eval': <function eval(source, globals=None, locals=None, /)>,\n",
       "  'exec': <function exec(source, globals=None, locals=None, /)>,\n",
       "  'format': <function format(value, format_spec='', /)>,\n",
       "  'getattr': <function getattr>,\n",
       "  'globals': <function globals()>,\n",
       "  'hasattr': <function hasattr(obj, name, /)>,\n",
       "  'hash': <function hash(obj, /)>,\n",
       "  'hex': <function hex(number, /)>,\n",
       "  'id': <function id(obj, /)>,\n",
       "  'input': <bound method Kernel.raw_input of <ipykernel.ipkernel.IPythonKernel object at 0x0000028695723E80>>,\n",
       "  'isinstance': <function isinstance(obj, class_or_tuple, /)>,\n",
       "  'issubclass': <function issubclass(cls, class_or_tuple, /)>,\n",
       "  'iter': <function iter>,\n",
       "  'len': <function len(obj, /)>,\n",
       "  'locals': <function locals()>,\n",
       "  'max': <function max>,\n",
       "  'min': <function min>,\n",
       "  'next': <function next>,\n",
       "  'oct': <function oct(number, /)>,\n",
       "  'ord': <function ord(c, /)>,\n",
       "  'pow': <function pow(base, exp, mod=None)>,\n",
       "  'print': <function print>,\n",
       "  'repr': <function repr(obj, /)>,\n",
       "  'round': <function round(number, ndigits=None)>,\n",
       "  'setattr': <function setattr(obj, name, value, /)>,\n",
       "  'sorted': <function sorted(iterable, /, *, key=None, reverse=False)>,\n",
       "  'sum': <function sum(iterable, /, start=0)>,\n",
       "  'vars': <function vars>,\n",
       "  'None': None,\n",
       "  'Ellipsis': Ellipsis,\n",
       "  'NotImplemented': NotImplemented,\n",
       "  'False': False,\n",
       "  'True': True,\n",
       "  'bool': bool,\n",
       "  'memoryview': memoryview,\n",
       "  'bytearray': bytearray,\n",
       "  'bytes': bytes,\n",
       "  'classmethod': classmethod,\n",
       "  'complex': complex,\n",
       "  'dict': dict,\n",
       "  'enumerate': enumerate,\n",
       "  'filter': filter,\n",
       "  'float': float,\n",
       "  'frozenset': frozenset,\n",
       "  'property': property,\n",
       "  'int': int,\n",
       "  'list': list,\n",
       "  'map': map,\n",
       "  'object': object,\n",
       "  'range': range,\n",
       "  'reversed': reversed,\n",
       "  'set': set,\n",
       "  'slice': slice,\n",
       "  'staticmethod': staticmethod,\n",
       "  'str': str,\n",
       "  'super': super,\n",
       "  'tuple': tuple,\n",
       "  'type': type,\n",
       "  'zip': zip,\n",
       "  '__debug__': True,\n",
       "  'BaseException': BaseException,\n",
       "  'Exception': Exception,\n",
       "  'TypeError': TypeError,\n",
       "  'StopAsyncIteration': StopAsyncIteration,\n",
       "  'StopIteration': StopIteration,\n",
       "  'GeneratorExit': GeneratorExit,\n",
       "  'SystemExit': SystemExit,\n",
       "  'KeyboardInterrupt': KeyboardInterrupt,\n",
       "  'ImportError': ImportError,\n",
       "  'ModuleNotFoundError': ModuleNotFoundError,\n",
       "  'OSError': OSError,\n",
       "  'EnvironmentError': OSError,\n",
       "  'IOError': OSError,\n",
       "  'WindowsError': OSError,\n",
       "  'EOFError': EOFError,\n",
       "  'RuntimeError': RuntimeError,\n",
       "  'RecursionError': RecursionError,\n",
       "  'NotImplementedError': NotImplementedError,\n",
       "  'NameError': NameError,\n",
       "  'UnboundLocalError': UnboundLocalError,\n",
       "  'AttributeError': AttributeError,\n",
       "  'SyntaxError': SyntaxError,\n",
       "  'IndentationError': IndentationError,\n",
       "  'TabError': TabError,\n",
       "  'LookupError': LookupError,\n",
       "  'IndexError': IndexError,\n",
       "  'KeyError': KeyError,\n",
       "  'ValueError': ValueError,\n",
       "  'UnicodeError': UnicodeError,\n",
       "  'UnicodeEncodeError': UnicodeEncodeError,\n",
       "  'UnicodeDecodeError': UnicodeDecodeError,\n",
       "  'UnicodeTranslateError': UnicodeTranslateError,\n",
       "  'AssertionError': AssertionError,\n",
       "  'ArithmeticError': ArithmeticError,\n",
       "  'FloatingPointError': FloatingPointError,\n",
       "  'OverflowError': OverflowError,\n",
       "  'ZeroDivisionError': ZeroDivisionError,\n",
       "  'SystemError': SystemError,\n",
       "  'ReferenceError': ReferenceError,\n",
       "  'MemoryError': MemoryError,\n",
       "  'BufferError': BufferError,\n",
       "  'Warning': Warning,\n",
       "  'UserWarning': UserWarning,\n",
       "  'DeprecationWarning': DeprecationWarning,\n",
       "  'PendingDeprecationWarning': PendingDeprecationWarning,\n",
       "  'SyntaxWarning': SyntaxWarning,\n",
       "  'RuntimeWarning': RuntimeWarning,\n",
       "  'FutureWarning': FutureWarning,\n",
       "  'ImportWarning': ImportWarning,\n",
       "  'UnicodeWarning': UnicodeWarning,\n",
       "  'BytesWarning': BytesWarning,\n",
       "  'ResourceWarning': ResourceWarning,\n",
       "  'ConnectionError': ConnectionError,\n",
       "  'BlockingIOError': BlockingIOError,\n",
       "  'BrokenPipeError': BrokenPipeError,\n",
       "  'ChildProcessError': ChildProcessError,\n",
       "  'ConnectionAbortedError': ConnectionAbortedError,\n",
       "  'ConnectionRefusedError': ConnectionRefusedError,\n",
       "  'ConnectionResetError': ConnectionResetError,\n",
       "  'FileExistsError': FileExistsError,\n",
       "  'FileNotFoundError': FileNotFoundError,\n",
       "  'IsADirectoryError': IsADirectoryError,\n",
       "  'NotADirectoryError': NotADirectoryError,\n",
       "  'InterruptedError': InterruptedError,\n",
       "  'PermissionError': PermissionError,\n",
       "  'ProcessLookupError': ProcessLookupError,\n",
       "  'TimeoutError': TimeoutError,\n",
       "  'open': <function io.open(file, mode='r', buffering=-1, encoding=None, errors=None, newline=None, closefd=True, opener=None)>,\n",
       "  'copyright': Copyright (c) 2001-2021 Python Software Foundation.\n",
       "  All Rights Reserved.\n",
       "  \n",
       "  Copyright (c) 2000 BeOpen.com.\n",
       "  All Rights Reserved.\n",
       "  \n",
       "  Copyright (c) 1995-2001 Corporation for National Research Initiatives.\n",
       "  All Rights Reserved.\n",
       "  \n",
       "  Copyright (c) 1991-1995 Stichting Mathematisch Centrum, Amsterdam.\n",
       "  All Rights Reserved.,\n",
       "  'credits':     Thanks to CWI, CNRI, BeOpen.com, Zope Corporation and a cast of thousands\n",
       "      for supporting Python development.  See www.python.org for more information.,\n",
       "  'license': See https://www.python.org/psf/license/,\n",
       "  'help': Type help() for interactive help, or help(object) for help about object.,\n",
       "  '__IPYTHON__': True,\n",
       "  'display': <function IPython.core.display.display(*objs, include=None, exclude=None, metadata=None, transient=None, display_id=None, **kwargs)>,\n",
       "  'get_ipython': <bound method InteractiveShell.get_ipython of <ipykernel.zmqshell.ZMQInteractiveShell object at 0x00000286956EBE50>>},\n",
       " 'suma': <function test.suma(a, b)>,\n",
       " 'roznica': <function test.roznica(a, b)>,\n",
       " 'PI': 3.1415}"
      ]
     },
     "execution_count": 5,
     "metadata": {},
     "output_type": "execute_result"
    }
   ],
   "source": [
    "print(t.__name__)  # nazwa modułu\n",
    "print(t.__file__)  # nazwa pliku\n",
    "t.__dict__  # słownik skojarzony z modułem"
   ]
  },
  {
   "cell_type": "markdown",
   "metadata": {
    "deletable": false,
    "editable": false,
    "nbgrader": {
     "cell_type": "markdown",
     "checksum": "23c46bfcbdf3a1ece0d21ebecb37fc10",
     "grade": false,
     "grade_id": "cell-59b308eb705e3a9f",
     "locked": true,
     "schema_version": 3,
     "solution": false,
     "task": false
    }
   },
   "source": [
    "Wszystkie załadowane moduły możemy sprawdzić wypisując zmienną `sys.modules`. W zmiennej `sys.path` mamy ścieżki do katalogów, które są przeszukiwane w celu znalezienia modułu."
   ]
  },
  {
   "cell_type": "code",
   "execution_count": 9,
   "metadata": {},
   "outputs": [
    {
     "data": {
      "text/plain": [
       "['D:\\\\Dane Użytkowników\\\\Michał\\\\MEGA\\\\PK\\\\Semestr_5\\\\JS\\\\Notebooki z zajęć\\\\Moje\\\\Lab3',\n",
       " 'P:\\\\Programy\\\\Anaconda\\\\python38.zip',\n",
       " 'P:\\\\Programy\\\\Anaconda\\\\DLLs',\n",
       " 'P:\\\\Programy\\\\Anaconda\\\\lib',\n",
       " 'P:\\\\Programy\\\\Anaconda',\n",
       " '',\n",
       " 'P:\\\\Programy\\\\Anaconda\\\\lib\\\\site-packages',\n",
       " 'P:\\\\Programy\\\\Anaconda\\\\lib\\\\site-packages\\\\locket-0.2.1-py3.8.egg',\n",
       " 'P:\\\\Programy\\\\Anaconda\\\\lib\\\\site-packages\\\\win32',\n",
       " 'P:\\\\Programy\\\\Anaconda\\\\lib\\\\site-packages\\\\win32\\\\lib',\n",
       " 'P:\\\\Programy\\\\Anaconda\\\\lib\\\\site-packages\\\\Pythonwin',\n",
       " 'P:\\\\Programy\\\\Anaconda\\\\lib\\\\site-packages\\\\IPython\\\\extensions',\n",
       " 'C:\\\\Users\\\\Michał\\\\.ipython',\n",
       " 'C:\\\\Users\\\\']"
      ]
     },
     "execution_count": 9,
     "metadata": {},
     "output_type": "execute_result"
    }
   ],
   "source": [
    "import sys\n",
    "sys.modules\n",
    "sys.path\n",
    "sys.path.append('C:\\\\Users\\\\') # modyfikacja/dodanie katalogu do sys.path"
   ]
  },
  {
   "cell_type": "markdown",
   "metadata": {
    "deletable": false,
    "editable": false,
    "nbgrader": {
     "cell_type": "markdown",
     "checksum": "27ad9972a70fb3cffbc5a795b0509f0d",
     "grade": false,
     "grade_id": "cell-91ce4aa904197b35",
     "locked": true,
     "schema_version": 3,
     "solution": false,
     "task": false
    }
   },
   "source": [
    "### Uruchamianie modułu jako skryptu.\n",
    "\n",
    "#### Funkcja `main` w Pythonie\n",
    "Każdy moduł definuje zmienną `__name__` - nazwę modułu. Na najwyższym poziomie interpretera znajduje się moduł `__main__`.\n",
    "W przypadku wykonywania pliku zmienna `__name__` przyjmuje wartość `__main__` , a w przypadku importu `nazwe_modułu`, dzięki\n",
    "temu z tego samego pliku możemy korzystać jak ze skryptu oraz jak z modułu.\n",
    "\n",
    "Jeżeli chcemy, aby program zmienił swoje działanie w zależności od tego czy został zaimportowany, czy też wykonuje się w module `__main__` możemy użyć następującego sposobu:\n",
    "\n",
    "```python\n",
    "if _name_ == '__main__':\n",
    "    #Tak - kod został uruchomiony jako program\n",
    "    blok_instrukcji program\n",
    "else:\n",
    "    #Nie - plik został zaimportowany jako moduł\n",
    "    blok_instrukcji moduł\n",
    "```"
   ]
  },
  {
   "cell_type": "markdown",
   "metadata": {
    "deletable": false,
    "editable": false,
    "nbgrader": {
     "cell_type": "markdown",
     "checksum": "ab0f6cce4c0f86de83783d605c182efe",
     "grade": false,
     "grade_id": "cell-e25ffd898b01d1d4",
     "locked": true,
     "schema_version": 3,
     "solution": false,
     "task": false
    }
   },
   "source": [
    "###  Ćwiczenie 2a\n",
    "\n",
    "W pliku `test_1.py` zmodyfikuj kod do postaci:\n",
    "```python\n",
    "def suma(a,b):\n",
    "    return a+b\n",
    "\n",
    "def roznica(a,b):\n",
    "    return a-b\n",
    "\n",
    "PI = 3.1415\n",
    "\n",
    "if __name__ == '__main__':\n",
    "    #Tak - kod został uruchomiony jako program\n",
    "    print('Skrypt uruchomiony')\n",
    "    import sys \n",
    "    print(suma(int(sys.argv[1]), int(sys.argv[2])))\n",
    "    print(PI)\n",
    "else:\n",
    "    #Nie - plik został zaimportowany jako moduł\n",
    "    print('Moduł zaimportowany')\n",
    "```\n",
    "    \n",
    "a następnie zaimportuj moduł do notatnika oraz przejdź do konsoli i uruchom go jako skrypt poleceniem: `python test_1.py 6 7`."
   ]
  },
  {
   "cell_type": "code",
   "execution_count": 10,
   "metadata": {},
   "outputs": [
    {
     "name": "stdout",
     "output_type": "stream",
     "text": [
      "Moduł zaimportowany\n"
     ]
    }
   ],
   "source": [
    "import test_1"
   ]
  },
  {
   "cell_type": "code",
   "execution_count": 11,
   "metadata": {},
   "outputs": [
    {
     "data": {
      "text/plain": [
       "3.1415"
      ]
     },
     "execution_count": 11,
     "metadata": {},
     "output_type": "execute_result"
    }
   ],
   "source": [
    "test_1.PI"
   ]
  },
  {
   "cell_type": "code",
   "execution_count": 12,
   "metadata": {},
   "outputs": [
    {
     "name": "stdout",
     "output_type": "stream",
     "text": [
      "Moduł zaimportowany\n"
     ]
    },
    {
     "data": {
      "text/plain": [
       "<module 'test_1' from 'D:\\\\Dane Użytkowników\\\\Michał\\\\MEGA\\\\PK\\\\Semestr_5\\\\JS\\\\Notebooki z zajęć\\\\Moje\\\\Lab3\\\\test_1.py'>"
      ]
     },
     "execution_count": 12,
     "metadata": {},
     "output_type": "execute_result"
    }
   ],
   "source": [
    "import imp\n",
    "imp.reload(test_1) #przeładowanie modułu test_1"
   ]
  },
  {
   "cell_type": "markdown",
   "metadata": {
    "deletable": false,
    "editable": false,
    "nbgrader": {
     "cell_type": "markdown",
     "checksum": "821fe9fe1fa25cb81d7ff0a4c34a3fed",
     "grade": false,
     "grade_id": "cell-7e79db94b1527224",
     "locked": true,
     "schema_version": 3,
     "solution": false,
     "task": false
    }
   },
   "source": [
    "#### „Skompilowane” pliki Pythona\n",
    "\n",
    "- w celu przyspieszenia ładowania modułów Python przechowuje ich skompilowane wersje w katalogu `__pycache__` pod nazwą `module.version.pyc` np. `test_1.cpython-38.pyc`.\n",
    "- skompilowane moduły są niezależne od platformy\n",
    "- w przypadku załadowania modułu z linii komend `cache` nie jest brany pod uwagę\n",
    "- nie jest brany pod uwagę również wtedy gdy nie ma pliku źródłowego danego modułu \n"
   ]
  },
  {
   "cell_type": "markdown",
   "metadata": {
    "deletable": false,
    "editable": false,
    "nbgrader": {
     "cell_type": "markdown",
     "checksum": "2b93e84b737fcc615492b54dabd3a02b",
     "grade": false,
     "grade_id": "cell-616c11f11c62ff28",
     "locked": true,
     "schema_version": 3,
     "solution": false,
     "task": false
    }
   },
   "source": [
    "#### Funkcja `dir()`\n",
    "\n",
    "- `dir(name)` zwraca nazwy zdefiniowane w module `name`.\n",
    "- `dir()` bez parametrów zwraca nazwy zdefiniowane w bieżącym module.\n",
    "- `dir()` nie zwraca nazw funkcji i zmiennych wbudowanych, są one dostępne po zaimportowaniu modułu `builtins`."
   ]
  },
  {
   "cell_type": "code",
   "execution_count": 13,
   "metadata": {},
   "outputs": [
    {
     "data": {
      "text/plain": [
       "['PI',\n",
       " '__builtins__',\n",
       " '__cached__',\n",
       " '__doc__',\n",
       " '__file__',\n",
       " '__loader__',\n",
       " '__name__',\n",
       " '__package__',\n",
       " '__spec__',\n",
       " 'roznica',\n",
       " 'suma']"
      ]
     },
     "execution_count": 13,
     "metadata": {},
     "output_type": "execute_result"
    }
   ],
   "source": [
    "dir(test_1)"
   ]
  },
  {
   "cell_type": "code",
   "execution_count": 14,
   "metadata": {},
   "outputs": [
    {
     "data": {
      "text/plain": [
       "['ArithmeticError',\n",
       " 'AssertionError',\n",
       " 'AttributeError',\n",
       " 'BaseException',\n",
       " 'BlockingIOError',\n",
       " 'BrokenPipeError',\n",
       " 'BufferError',\n",
       " 'BytesWarning',\n",
       " 'ChildProcessError',\n",
       " 'ConnectionAbortedError',\n",
       " 'ConnectionError',\n",
       " 'ConnectionRefusedError',\n",
       " 'ConnectionResetError',\n",
       " 'DeprecationWarning',\n",
       " 'EOFError',\n",
       " 'Ellipsis',\n",
       " 'EnvironmentError',\n",
       " 'Exception',\n",
       " 'False',\n",
       " 'FileExistsError',\n",
       " 'FileNotFoundError',\n",
       " 'FloatingPointError',\n",
       " 'FutureWarning',\n",
       " 'GeneratorExit',\n",
       " 'IOError',\n",
       " 'ImportError',\n",
       " 'ImportWarning',\n",
       " 'IndentationError',\n",
       " 'IndexError',\n",
       " 'InterruptedError',\n",
       " 'IsADirectoryError',\n",
       " 'KeyError',\n",
       " 'KeyboardInterrupt',\n",
       " 'LookupError',\n",
       " 'MemoryError',\n",
       " 'ModuleNotFoundError',\n",
       " 'NameError',\n",
       " 'None',\n",
       " 'NotADirectoryError',\n",
       " 'NotImplemented',\n",
       " 'NotImplementedError',\n",
       " 'OSError',\n",
       " 'OverflowError',\n",
       " 'PendingDeprecationWarning',\n",
       " 'PermissionError',\n",
       " 'ProcessLookupError',\n",
       " 'RecursionError',\n",
       " 'ReferenceError',\n",
       " 'ResourceWarning',\n",
       " 'RuntimeError',\n",
       " 'RuntimeWarning',\n",
       " 'StopAsyncIteration',\n",
       " 'StopIteration',\n",
       " 'SyntaxError',\n",
       " 'SyntaxWarning',\n",
       " 'SystemError',\n",
       " 'SystemExit',\n",
       " 'TabError',\n",
       " 'TimeoutError',\n",
       " 'True',\n",
       " 'TypeError',\n",
       " 'UnboundLocalError',\n",
       " 'UnicodeDecodeError',\n",
       " 'UnicodeEncodeError',\n",
       " 'UnicodeError',\n",
       " 'UnicodeTranslateError',\n",
       " 'UnicodeWarning',\n",
       " 'UserWarning',\n",
       " 'ValueError',\n",
       " 'Warning',\n",
       " 'WindowsError',\n",
       " 'ZeroDivisionError',\n",
       " '__IPYTHON__',\n",
       " '__build_class__',\n",
       " '__debug__',\n",
       " '__doc__',\n",
       " '__import__',\n",
       " '__loader__',\n",
       " '__name__',\n",
       " '__package__',\n",
       " '__spec__',\n",
       " 'abs',\n",
       " 'all',\n",
       " 'any',\n",
       " 'ascii',\n",
       " 'bin',\n",
       " 'bool',\n",
       " 'breakpoint',\n",
       " 'bytearray',\n",
       " 'bytes',\n",
       " 'callable',\n",
       " 'chr',\n",
       " 'classmethod',\n",
       " 'compile',\n",
       " 'complex',\n",
       " 'copyright',\n",
       " 'credits',\n",
       " 'delattr',\n",
       " 'dict',\n",
       " 'dir',\n",
       " 'display',\n",
       " 'divmod',\n",
       " 'enumerate',\n",
       " 'eval',\n",
       " 'exec',\n",
       " 'filter',\n",
       " 'float',\n",
       " 'format',\n",
       " 'frozenset',\n",
       " 'get_ipython',\n",
       " 'getattr',\n",
       " 'globals',\n",
       " 'hasattr',\n",
       " 'hash',\n",
       " 'help',\n",
       " 'hex',\n",
       " 'id',\n",
       " 'input',\n",
       " 'int',\n",
       " 'isinstance',\n",
       " 'issubclass',\n",
       " 'iter',\n",
       " 'len',\n",
       " 'license',\n",
       " 'list',\n",
       " 'locals',\n",
       " 'map',\n",
       " 'max',\n",
       " 'memoryview',\n",
       " 'min',\n",
       " 'next',\n",
       " 'object',\n",
       " 'oct',\n",
       " 'open',\n",
       " 'ord',\n",
       " 'pow',\n",
       " 'print',\n",
       " 'property',\n",
       " 'range',\n",
       " 'repr',\n",
       " 'reversed',\n",
       " 'round',\n",
       " 'set',\n",
       " 'setattr',\n",
       " 'slice',\n",
       " 'sorted',\n",
       " 'staticmethod',\n",
       " 'str',\n",
       " 'sum',\n",
       " 'super',\n",
       " 'tuple',\n",
       " 'type',\n",
       " 'vars',\n",
       " 'zip']"
      ]
     },
     "execution_count": 14,
     "metadata": {},
     "output_type": "execute_result"
    }
   ],
   "source": [
    "import builtins\n",
    "dir(builtins)"
   ]
  },
  {
   "cell_type": "markdown",
   "metadata": {
    "deletable": false,
    "editable": false,
    "nbgrader": {
     "cell_type": "markdown",
     "checksum": "cf92105a258528b9964061a1a60dfce4",
     "grade": false,
     "grade_id": "cell-85b63f013963e727",
     "locked": true,
     "schema_version": 3,
     "solution": false,
     "task": false
    }
   },
   "source": [
    "## Pakiety.\n",
    "\n",
    "https://docs.python.org/3/tutorial/modules.html#packages\n",
    "\n",
    "- Pakiety są sposobem na uporządkowanie przestrzeni nazw modułów.\n",
    "- `A.B` - oznacza moduł składowy `\"B\"` pakietu `\"A\"`.\n",
    "- Pakiety są zorganizowane jako katalogi z zagnieżdżonymi pakietami (podkatalogami) i modułami. Moduły wewnątrz pakietu nadal są zwykłymi plikami `.py`.\n",
    "```\n",
    "sound/                        Top-level package\n",
    "      __init__.py               Initialize the sound package\n",
    "      formats/                  Subpackage for file format conversions\n",
    "              __init__.py\n",
    "              wavread.py\n",
    "              wavwrite.py\n",
    "              aiffread.py\n",
    "              aiffwrite.py\n",
    "              auread.py\n",
    "              auwrite.py\n",
    "              ...\n",
    "      effects/                  Subpackage for sound effects\n",
    "              __init__.py\n",
    "              echo.py\n",
    "              surround.py\n",
    "              reverse.py\n",
    "              ...\n",
    "```\n",
    "- pliki `__init__.py` są wymagane aby Python potraktował katalog jako zwierający pakiet (w najprostszym przypadku `__init__.py` może być puste lub zawierać kod inicjalizujący pakiet albo ustawiać zmienną `__all__`, np.: `__all__ = [\"echo\", \"surround\", \"reverse\"]` ).\n",
    "- Pakiet(y) importujemy używając słowa kluczowego `import`: \n",
    "\n",
    "```python \n",
    "import sound.effects.echo  #import pojedynczego moduły z pakietu\n",
    "sound.effects.echo.echofilter(input, output, delay=0.7, atten=4) #odwołujemy się do pakietu podając kompletną ścieżkę\n",
    "\n",
    "from sound.effects import echo  #alternatywny sposób wywołania pakietu\n",
    "echo.echofilter(input, output, delay=0.7, atten=4)  #wywołanie funkcji z pakietu\n",
    "\n",
    "from sound.effects.echo import echofilter  #importuje żądaną funkcję lub zmienną bezpośrednio\n",
    "echofilter(input, output, delay=0.7, atten=4)  #wywołanie funkcji z pakietu\n",
    "\n",
    "from package import *  #importuje wszystkie moduły z pakietu zdefiniowane jako lista __all__ w pliku __init__.py \n",
    "\n",
    "from package import item  #item może być zarówno modułem składowym, pakietem składowym lub nazwą jakiejś funkcji, klasy lub zmiennej. \n",
    "```\n",
    "\n"
   ]
  },
  {
   "cell_type": "markdown",
   "metadata": {
    "deletable": false,
    "editable": false,
    "nbgrader": {
     "cell_type": "markdown",
     "checksum": "424ed259fd376a971af66799aa4fe162",
     "grade": false,
     "grade_id": "cell-fef121eb55ddd48f",
     "locked": true,
     "schema_version": 3,
     "solution": false
    }
   },
   "source": [
    "## Praca z plikami tekstowymi.\n",
    "\n",
    "Do pracy z plikami/folderami przydatny może okazać sie moduł `os`. (https://docs.python.org/3/library/os.html)\n",
    "\n",
    "Np. aby sprawdzić scieżkę do folderu w którym aktualnie pracujemy należy wykonać polecenie."
   ]
  },
  {
   "cell_type": "code",
   "execution_count": 15,
   "metadata": {},
   "outputs": [
    {
     "data": {
      "text/plain": [
       "'D:\\\\Dane Użytkowników\\\\Michał\\\\MEGA\\\\PK\\\\Semestr_5\\\\JS\\\\Notebooki z zajęć\\\\Moje\\\\Lab3'"
      ]
     },
     "execution_count": 15,
     "metadata": {},
     "output_type": "execute_result"
    }
   ],
   "source": [
    "import os\n",
    "os.getcwd()"
   ]
  },
  {
   "cell_type": "markdown",
   "metadata": {
    "deletable": false,
    "editable": false,
    "nbgrader": {
     "cell_type": "markdown",
     "checksum": "2a9fa7802f9e5fcff5aad0714ffa7ea6",
     "grade": false,
     "grade_id": "cell-91aea7e919c6e47f",
     "locked": true,
     "schema_version": 3,
     "solution": false
    }
   },
   "source": [
    "#### Otwieranie i zamykanie pliku tekstowego:\n",
    "\n",
    "Składnia polecenia do otwierania pliku:\n",
    "```python \n",
    "f = open('sciezka\\nazwa_pliku','tryb')\n",
    "```\n",
    "Funkcja `open()` zwraca deskryptor pliku.\n",
    "\n",
    "Tryby otwierania pliku:\n",
    "- `r` – tylko do odczytu (plik musi istniec)\n",
    "- `w` – tylko do zapisu (plik nie musi istniec, natomiast istniejący plik o podanej nazwie zostanie nadpisany)\n",
    "- `a` – tylko do dopisywania (dowolna dana zapisana do pliku będzie dodana na jego koniec)\n",
    "- `r+` – zarówno do czytania jak i do pisania.\n",
    "- `x` - tylko utworzenie pliku, jesli istnieje to wyrzuci błąd.\n",
    "\n",
    "Argument tryb jest opcjonalny: w przypadku jego braku plik zostanie otwarty w trybie `r`.\n",
    "Do każdego trybu można dodać literę `b` co oznacza pracę w trybie binarnym (np. czytanie plików JPEG).\n",
    "\n",
    "Zamykanie pliku:\n",
    "```python \n",
    "f.close()\n",
    "```\n",
    "Funkcja ta zamyka plik oraz zwalnia wszystkie zasoby systemowe związane z otwarciem i obsługą tego pliku."
   ]
  },
  {
   "cell_type": "code",
   "execution_count": 16,
   "metadata": {},
   "outputs": [
    {
     "name": "stdout",
     "output_type": "stream",
     "text": [
      "<class '_io.TextIOWrapper'>\n"
     ]
    }
   ],
   "source": [
    "# otwarcie pliku do zapisu\n",
    "f = open('plik.txt', 'w')  # plik otwarty w bieżącym katalogu\n",
    "print(type(f))\n",
    "# zamykamy plik\n",
    "f.close()"
   ]
  },
  {
   "cell_type": "markdown",
   "metadata": {
    "deletable": false,
    "editable": false,
    "nbgrader": {
     "cell_type": "markdown",
     "checksum": "df650edf78d2dc316d6110430c4467b7",
     "grade": false,
     "grade_id": "cell-29ec44429e203f16",
     "locked": true,
     "schema_version": 3,
     "solution": false
    }
   },
   "source": [
    "#### Podstawowe metody obiektu `file`\n",
    "\n",
    "https://docs.python.org/3/library/io.html?highlight=file#io.IOBase\n",
    "\n",
    "- `closed` - atrybut przechowujący wartość logiczną `True` jeśli plik jest zamknięty, `False` w przeciwnym razie.\n",
    "- `close()` - zamyka plik.\n",
    "- `readable()` - Zwraca `True` jesli możliwe jest czytanie z pliku, w przeciwnym razie `False`.\n",
    "- `writable()` - Zwraca `True` jesli możliwe jest pisanie do pliku, w przeciwnym razie `False`.\n",
    "- `write(s)` - Zapisuje zawartość napisu `s` do pliku. Zwraca liczbe znaków zapisanych do pliku.\n",
    "- `writelines(ss)` - Zapisuje zawartość listy `ss` do pliku.\n",
    "- `read(size)` – Zwraca napis długości `size` początkowych znaków. Jeśli `size` opuszczone lub ujemne to czytana jest cała zawartość\n",
    "\n",
    "- `readline()` – Zwraca napis, którego zawartością jest pojedynczy wiersz przeczytany z pliku. Po przeczytaniu wszystkich wierszy pliku kolejne wywołanie zwraca pusty napis.\n",
    "- `readlines()` – Zwraca liste napisów, którymi są kolejne wiersze pliku, od pierwszego do ostatniego.\n",
    "- `f.seek(offset, whence=SEEK_SET)` – Zmiana pozycji w pliku. `offset` liczony względem pozycji wskazanej przez `whence`: `SEEK_SET` lub `0` - początek strumienia (domyślnie); przesunięcie powinno być zerowe lub dodatnie; `SEEK_CUR` lub `1` - aktualna pozycja strumienia; przesunięcie może być ujemne; `SEEK_END` lub `2` - koniec strumienia; offset jest zwykle ujemny\n",
    "- `tell( )` – Zwraca aktualną pozycję strumienia.\n"
   ]
  },
  {
   "cell_type": "code",
   "execution_count": 17,
   "metadata": {},
   "outputs": [],
   "source": [
    "# otwarcie pliku do zapisu\n",
    "f = open('plik.txt','w')\n",
    "# zapisujemy w pliku 5 lini tekstu\n",
    "f.write('linia 1\\n')\n",
    "f.write('linia 2\\n')\n",
    "f.write('linia 3\\n')\n",
    "f.write('linia 4\\n')\n",
    "f.write('linia 5\\n')\n",
    "# zapisujemy w pliku zawartość listy\n",
    "f.writelines(['linia 6\\n', 'linia 7\\n', 'linia 8\\n'])\n",
    "# zamykamy plik\n",
    "f.close()"
   ]
  },
  {
   "cell_type": "code",
   "execution_count": 18,
   "metadata": {},
   "outputs": [
    {
     "name": "stdout",
     "output_type": "stream",
     "text": [
      "linia 1\n",
      "linia 2\n",
      "linia 3\n",
      "linia 4\n",
      "linia 5\n",
      "linia 6\n",
      "linia 7\n",
      "linia 8\n",
      "\n"
     ]
    }
   ],
   "source": [
    "# otwarcie pliku do odczytu\n",
    "f = open('plik.txt','r')\n",
    "# czytanie całego pliku\n",
    "tekst = f.read()\n",
    "# zamykamy plik\n",
    "f.close()\n",
    "print(tekst)"
   ]
  },
  {
   "cell_type": "code",
   "execution_count": 19,
   "metadata": {},
   "outputs": [
    {
     "name": "stdout",
     "output_type": "stream",
     "text": [
      "linia 1\n",
      "\n",
      "linia 2\n",
      "\n",
      "linia 3\n",
      "\n",
      "linia 4\n",
      "\n",
      "linia 5\n",
      "\n",
      "linia 6\n",
      "\n",
      "linia 7\n",
      "\n"
     ]
    }
   ],
   "source": [
    "# otwarcie pliku do odczytu\n",
    "f = open('plik.txt','r')\n",
    "# czytanie linia po lini\n",
    "print(f.readline())\n",
    "print(f.readline())\n",
    "print(f.readline())\n",
    "print(f.readline())\n",
    "print(f.readline())\n",
    "print(f.readline())  # pusty string\n",
    "print(f.readline())  # pusty string\n",
    "# zamykamy plik\n",
    "f.close()"
   ]
  },
  {
   "cell_type": "code",
   "execution_count": 20,
   "metadata": {},
   "outputs": [
    {
     "name": "stdout",
     "output_type": "stream",
     "text": [
      "linia 1\n",
      "\n",
      "linia 2\n",
      "\n",
      "linia 3\n",
      "\n",
      "linia 4\n",
      "\n",
      "linia 5\n",
      "\n",
      "linia 6\n",
      "\n",
      "linia 7\n",
      "\n",
      "linia 8\n",
      "\n"
     ]
    }
   ],
   "source": [
    "# otwarcie pliku do odczytu\n",
    "f = open('plik.txt','r')\n",
    "# czytanie i wypisywanie linia po linii pętla for - iteracja po obiekcie file\n",
    "for line in f:\n",
    "    text = line\n",
    "    print(text)\n",
    "# zamykamy plik\n",
    "f.close()"
   ]
  },
  {
   "cell_type": "code",
   "execution_count": 21,
   "metadata": {},
   "outputs": [
    {
     "name": "stdout",
     "output_type": "stream",
     "text": [
      "False\n",
      "True\n",
      "['linia 1\\n', 'linia 2\\n', 'linia 3\\n', 'linia 4\\n', 'linia 5\\n', 'linia 6\\n', 'linia 7\\n', 'linia 8\\n']\n"
     ]
    }
   ],
   "source": [
    "# otwarcie pliku do odczytu\n",
    "f = open('plik.txt','r')\n",
    "print(f.writable())  # sprawdzenie czy plik otwarty do zapisu\n",
    "print(f.readable())  # sprawdzenie czy plik otwarty do odczytu\n",
    "print(f.readlines()) # czytanie całego pliku - lista napisów\n",
    "# zamykamy plik\n",
    "f.close()"
   ]
  },
  {
   "cell_type": "code",
   "execution_count": 22,
   "metadata": {},
   "outputs": [
    {
     "name": "stdout",
     "output_type": "stream",
     "text": [
      "linia 1\n",
      "linia 2\n",
      "linia 3\n",
      "linia 4\n",
      "linia 5\n",
      "linia 6\n",
      "linia 7\n",
      "linia 8\n",
      "linia 9\n",
      "linia 10\n",
      "\n"
     ]
    }
   ],
   "source": [
    "# otwarcie pliku do edycji (dopisywanie)\n",
    "f = open('plik.txt','a')\n",
    "f.write('linia 9\\n')\n",
    "f.write('linia 10\\n')\n",
    "f.close()\n",
    "\n",
    "f = open('plik.txt','r')\n",
    "tekst = f.read()\n",
    "f.close()\n",
    "print(tekst)"
   ]
  },
  {
   "cell_type": "code",
   "execution_count": 23,
   "metadata": {},
   "outputs": [
    {
     "name": "stdout",
     "output_type": "stream",
     "text": [
      "16\n",
      "b'0'\n",
      "4\n",
      "b'4'\n",
      "11\n",
      "b'd'\n"
     ]
    }
   ],
   "source": [
    "f = open('plik2.txt','wb')\n",
    "print(f.write(b'01234567abcdefgh')) #16\n",
    "f.close()\n",
    "\n",
    "f = open('plik2.txt','rb')\n",
    "print(f.read(1)) # b'0'\n",
    "print(f.seek(4)) #idź do 4-tego bajtu w pliku\n",
    "print(f.read(1)) # b'4'\n",
    "print(f.seek(-5,2)) #idź do 4-tego bajtu od końca\n",
    "print(f.read(1)) # b'd'\n",
    "f.close()"
   ]
  },
  {
   "cell_type": "markdown",
   "metadata": {
    "deletable": false,
    "editable": false,
    "nbgrader": {
     "cell_type": "markdown",
     "checksum": "15cceb181f22c1987ab232800d084878",
     "grade": false,
     "grade_id": "cell-4d2be82e17a4b8c0",
     "locked": true,
     "schema_version": 3,
     "solution": false
    }
   },
   "source": [
    "### Klauzula `with as`\n",
    "Aby nie musieć zawsze pamiętać o zamykaniu pliku można użyć klauzuli `with as`, wówczas po wyjściu z bloku `with` plik automatycznie zostanie zamknięty. Pamiętaj o wcięciach!."
   ]
  },
  {
   "cell_type": "code",
   "execution_count": 26,
   "metadata": {},
   "outputs": [
    {
     "ename": "ValueError",
     "evalue": "I/O operation on closed file",
     "output_type": "error",
     "traceback": [
      "\u001b[1;31m---------------------------------------------------------------------------\u001b[0m",
      "\u001b[1;31mValueError\u001b[0m                                Traceback (most recent call last)",
      "\u001b[1;32m<ipython-input-26-99ff63ba82df>\u001b[0m in \u001b[0;36m<module>\u001b[1;34m\u001b[0m\n\u001b[1;32m----> 1\u001b[1;33m \u001b[0mf\u001b[0m\u001b[1;33m.\u001b[0m\u001b[0mreadable\u001b[0m\u001b[1;33m(\u001b[0m\u001b[1;33m)\u001b[0m\u001b[1;33m\u001b[0m\u001b[1;33m\u001b[0m\u001b[0m\n\u001b[0m\u001b[0;32m      2\u001b[0m \u001b[1;33m\u001b[0m\u001b[0m\n\u001b[0;32m      3\u001b[0m \u001b[1;32mwith\u001b[0m \u001b[0mopen\u001b[0m\u001b[1;33m(\u001b[0m\u001b[1;34m'plik.txt'\u001b[0m\u001b[1;33m,\u001b[0m\u001b[1;34m'r'\u001b[0m\u001b[1;33m)\u001b[0m \u001b[1;32mas\u001b[0m \u001b[0mf\u001b[0m\u001b[1;33m:\u001b[0m\u001b[1;33m\u001b[0m\u001b[1;33m\u001b[0m\u001b[0m\n\u001b[0;32m      4\u001b[0m     \u001b[0mtekst\u001b[0m \u001b[1;33m=\u001b[0m \u001b[0mf\u001b[0m\u001b[1;33m.\u001b[0m\u001b[0mread\u001b[0m\u001b[1;33m(\u001b[0m\u001b[1;33m)\u001b[0m\u001b[1;33m\u001b[0m\u001b[1;33m\u001b[0m\u001b[0m\n\u001b[0;32m      5\u001b[0m \u001b[0mprint\u001b[0m\u001b[1;33m(\u001b[0m\u001b[0mtekst\u001b[0m\u001b[1;33m)\u001b[0m\u001b[1;33m\u001b[0m\u001b[1;33m\u001b[0m\u001b[0m\n",
      "\u001b[1;31mValueError\u001b[0m: I/O operation on closed file"
     ]
    }
   ],
   "source": [
    "with open('plik.txt','r') as f:\n",
    "    tekst = f.read()\n",
    "print(tekst)\n",
    "f.read()  #error - plik już jest zamkniety "
   ]
  },
  {
   "cell_type": "markdown",
   "metadata": {
    "deletable": false,
    "editable": false,
    "nbgrader": {
     "cell_type": "markdown",
     "checksum": "4b0c0b3ef4c2c1ab7c0c7c4d23f95191",
     "grade": false,
     "grade_id": "cell-bf8dddfe327e7dec",
     "locked": true,
     "schema_version": 3,
     "solution": false
    }
   },
   "source": [
    "### Ćwiczenie 3a\n",
    "Utwórz plki tekstowy o nazwie `lab_3.txt`. \n",
    "Napisz program, który w wybranym pliku zamieni każde wystąpienie wskazanego tekstu na inny tekst i te zmiany zapisze w pliku `wynik.txt`."
   ]
  },
  {
   "cell_type": "code",
   "execution_count": 41,
   "metadata": {
    "deletable": false,
    "nbgrader": {
     "cell_type": "code",
     "checksum": "07007e12a3d9c3fc8e432b52f696e55b",
     "grade": false,
     "grade_id": "cell-625b50ad5d4e5ddd",
     "locked": false,
     "schema_version": 3,
     "solution": true
    }
   },
   "outputs": [],
   "source": [
    "# YOUR CODE HERE\n",
    "with open('lab_3.txt','r') as f:\n",
    "    tekst = f.read()\n",
    "\n",
    "output = tekst.replace('Python', 'python')\n",
    "output = output.replace('python', 'anaconda')\n",
    "\n",
    "with open('wynik.txt', 'w') as f:\n",
    "    f.write(output)\n",
    "\n",
    "# raise NotImplementedError()"
   ]
  },
  {
   "cell_type": "markdown",
   "metadata": {
    "deletable": false,
    "editable": false,
    "nbgrader": {
     "cell_type": "markdown",
     "checksum": "1cb34022735db7aef3bb74645bbc9d8e",
     "grade": false,
     "grade_id": "cell-7360cbcdbd921647",
     "locked": true,
     "schema_version": 3,
     "solution": false
    }
   },
   "source": [
    "### Ćwiczenie 4a\n",
    "Napisz program (funkcję), który bazując na pliku tekstowym `dane.txt` zwróci liczbę wszystkich wierszy w tym pliku. Dla ustalonego wzorca (ciągu znaków) funkcja poda nr wiersza w którym występuje podany wzorzec oraz liczbę wierszy w których występuje wzorzec."
   ]
  },
  {
   "cell_type": "code",
   "execution_count": 47,
   "metadata": {
    "deletable": false,
    "nbgrader": {
     "cell_type": "code",
     "checksum": "13f4df275424728793731ff3a889e6b4",
     "grade": false,
     "grade_id": "cell-f8a91ff31ea65291",
     "locked": false,
     "schema_version": 3,
     "solution": true,
     "task": false
    }
   },
   "outputs": [
    {
     "name": "stdout",
     "output_type": "stream",
     "text": [
      "Liczba wierszy ze wzorcem:  2\n",
      "Liczba wszytskich wierszy:  4\n"
     ]
    },
    {
     "data": {
      "text/plain": [
       "4"
      ]
     },
     "execution_count": 47,
     "metadata": {},
     "output_type": "execute_result"
    }
   ],
   "source": [
    "wzorzec = 'przez' #szukany ciąg znaków\n",
    "# YOUR CODE HERE\n",
    "# raise NotImplementedError()\n",
    "def ex4(pattern:str):\n",
    "    count = 0\n",
    "    count_in = 0\n",
    "    with open('dane.txt', 'r', encoding = 'UTF-8') as f:\n",
    "        for line in f:\n",
    "            count += 1\n",
    "            if pattern in line:\n",
    "                count_in+=1\n",
    "            text = line\n",
    "    print(\"Liczba wierszy ze wzorcem: \", count_in)\n",
    "    print(\"Liczba wszytskich wierszy: \", count)\n",
    "    \n",
    "    return count\n",
    "\n",
    "ex4(wzorzec)"
   ]
  },
  {
   "cell_type": "markdown",
   "metadata": {
    "deletable": false,
    "editable": false,
    "nbgrader": {
     "cell_type": "markdown",
     "checksum": "634e9b72f4c5236e7def7c87e6ea1336",
     "grade": false,
     "grade_id": "cell-16d4c94e4bf1db7c",
     "locked": true,
     "schema_version": 3,
     "solution": false
    }
   },
   "source": [
    "## Zadanie 1a\n",
    "Utwórz moduł o nazwie np. `text.py` zawierający trzy funkcje:\n",
    "1. Wypisującą tekst wyrównany do lewej strony ekranu, przyjmującą jako argument maksymalną liczbę znaków mieszczącą się w linii,\n",
    "2. Wypisującą tekst wyrównany do prawej strony ekranu, przyjmującą argument taki, jak w funkcji pierwszej,\n",
    "3. Wypisującą tekst wyrównany do środka ekranu, przyjmującą argument taki, jak w funkcji pierwszej.\n",
    "\n",
    "Napisz program importujący ten moduł, wypisujący tekst na kształt rozmowy dwóch osób w komunikatorze: \n",
    "- wycentrowany nagłówek \"Rozmowa z: Mietek\", \n",
    "- wyrównane do lewej wiadomości Mietka, \n",
    "- wyrównane do prawej wiadomości użytkownika.\n",
    "\n",
    "Przykład:\n",
    "```\n",
    "                               Rozmowa z: Mietek                               \n",
    "Mietek: Witaj, mój ulubiony kolego!\n",
    "                                                            Ja: Witaj nieznajomy\n",
    "                                       Ja: Jak mogę ci pomóc tego pięknego dnia?\n",
    "Mietek: Jeśli nie chcesz mojej zguby\n",
    "Mietek: To gotowca daj mi luby!\n",
    "                                                                        Ja: Nie.\n",
    "Mietek: To nie.\n",
    "```"
   ]
  },
  {
   "cell_type": "code",
   "execution_count": 44,
   "metadata": {
    "deletable": false,
    "nbgrader": {
     "cell_type": "code",
     "checksum": "3af902989be113809a75263160ee9b86",
     "grade": true,
     "grade_id": "cell-b753b0808ed69c27",
     "locked": false,
     "points": 1,
     "schema_version": 3,
     "solution": true
    }
   },
   "outputs": [
    {
     "name": "stdout",
     "output_type": "stream",
     "text": [
      "Moduł \"text\" definiuje funkcje center, left, right i służy do:\n",
      "Wypisywania tekstu wyrównanego do lewej,\n",
      "                                                                       do prawej\n",
      "                               lub wycentrowanego.                               \n",
      "Dodatkowo ten moduł zawiera: ['__builtins__', '__cached__', '__doc__', '__file__\n",
      "', '__loader__', '__name__', '__package__', '__spec__', 'center', 'left', 'right\n",
      "']\n"
     ]
    }
   ],
   "source": [
    "# YOUR CODE HERE\n",
    "import text"
   ]
  },
  {
   "cell_type": "markdown",
   "metadata": {
    "deletable": false,
    "editable": false,
    "nbgrader": {
     "cell_type": "markdown",
     "checksum": "874ed877b4825b6ae15823244414dbc5",
     "grade": false,
     "grade_id": "cell-3c31f3a88a5ee2df",
     "locked": true,
     "schema_version": 3,
     "solution": false
    }
   },
   "source": [
    "## Zadanie 2a\n",
    "\n",
    "Zmodyfikuj moduł z `zadania 1` tak, aby wykonanie pliku z nim powodowało wypisanie opisu i listy funkcji zdefiniowanych w nim (funkcja `dir()`), oraz prezentację funkcji w nim zawartych, np.:\n",
    "```\n",
    "Moduł \"text\" definiuje funkcje center, left right i służy do: \n",
    "Wypisania tekstu wyrównanego do lewej,\n",
    "                                                                      do prawej,\n",
    "                              lub wycentrowanego.                              \n",
    "Dodatkowo ten moduł zawiera: ['__builtins__', '__cached__', '__doc__', '__file__\n",
    "', '__loader__', '__name__', '__package__', '__spec__', 'center', 'left', 'right\n",
    "']\n",
    "```\n",
    "\n",
    "\n",
    "Wykorzystaj zmienną `__name__`:\n",
    "```python\n",
    "if _name_ == '__main__':\n",
    "    #Tak - kod został uruchomiony jako program\n",
    "    blok_instrukcji program\n",
    "else:\n",
    "    #Nie - plik został zaimportowany jako moduł\n",
    "    blok_instrukcji moduł\n",
    "```"
   ]
  },
  {
   "cell_type": "code",
   "execution_count": null,
   "metadata": {
    "deletable": false,
    "nbgrader": {
     "cell_type": "code",
     "checksum": "a038d47911ddd78a9c4a9770c4db5ae8",
     "grade": true,
     "grade_id": "cell-8d5e1cb71dac421e",
     "locked": false,
     "points": 1,
     "schema_version": 3,
     "solution": true
    }
   },
   "outputs": [],
   "source": [
    "# YOUR CODE HERE\n",
    "raise NotImplementedError()"
   ]
  },
  {
   "cell_type": "markdown",
   "metadata": {
    "deletable": false,
    "editable": false,
    "nbgrader": {
     "cell_type": "markdown",
     "checksum": "d1b958387de4d67322a88a370eb0edd6",
     "grade": false,
     "grade_id": "cell-7da1d14f018653b2",
     "locked": true,
     "schema_version": 3,
     "solution": false,
     "task": false
    }
   },
   "source": [
    "## Zadanie 3a\n",
    "\n",
    "Napisz moduł o nazwie np. `fibonacci.py` zawierający dwie funkcje liczące podany wyraz ciągu Fibonacciego, pierwsza iteracyjnie, druga rekurencyjnie. Utwórz pakiet o nazwie np. `pakiet`, zawierający ten moduł, oraz moduł z zadań 1. i 2. Napisz program prezentujący działanie wszystkich funkcji tego pakietu.\n",
    "Napisz plik `__init__.py` pozwalający zaimportować wszystkie moduły pakietu przy użyciu:\n",
    "```python \n",
    "from pakiet import *\n",
    "```"
   ]
  },
  {
   "cell_type": "code",
   "execution_count": null,
   "metadata": {
    "deletable": false,
    "nbgrader": {
     "cell_type": "code",
     "checksum": "665da3388f1b33fb692223fa0371002c",
     "grade": true,
     "grade_id": "cell-98db7f7d5da5f8a4",
     "locked": false,
     "points": 1,
     "schema_version": 3,
     "solution": true,
     "task": false
    }
   },
   "outputs": [],
   "source": [
    "from pakiet import *\n",
    "\n",
    "# YOUR CODE HERE\n",
    "raise NotImplementedError()\n"
   ]
  },
  {
   "cell_type": "markdown",
   "metadata": {
    "deletable": false,
    "editable": false,
    "nbgrader": {
     "cell_type": "markdown",
     "checksum": "ed8e05d8283cf5e51af54aabb9c761ee",
     "grade": false,
     "grade_id": "cell-64e350e06a96f1cb",
     "locked": true,
     "schema_version": 3,
     "solution": false,
     "task": false
    }
   },
   "source": [
    "## Zadanie 4a\n",
    "\n",
    "Dane są cztery pliki umieszczone w katalogu `lab3_zad4`:\n",
    "1. `01_kto.txt`\n",
    "2. `02_co_zrobil.txt`\n",
    "3. `03_jaki.txt`\n",
    "4. `04_co.txt`\n",
    "\n",
    "Wczytaj zawartość każdego do osobnej listy (każda linia pliku jako osobny element). Napisz funkcję generującą losowe zdania używając linii wczytanych z powyższych plików. Zdania powinny mieć postać `{kto} {co_zrobił} {jaki} {co}`. Wykorzystaj funkcję `format`. Pamiętaj o obcięciu znaków nowej linii z końców linii wczytanych plików (np. używając metody `strip`). Program powinien tworzyć w katalogu `lab3_zad4` plik `wynik.txt` i wpisywać do niego 100 wygenerowanych linii. Wykorzystaj słowo kluczowe `with` przy otwieraniu plików oraz pętlę `for` iterującą po liniach pliku. \n",
    "\n",
    "Wykorzystaj poniższy przykład:\n",
    "```python\n",
    "print(\"{kto} {co_zrobil} {jaki} {co}\".format(kto = random.choice(akto), co_zrobil = random.choice(acozrobil), \n",
    "                                                 jaki = random.choice(ajaki), co = random.choice(aco) ))\n",
    "```"
   ]
  },
  {
   "cell_type": "code",
   "execution_count": 8,
   "metadata": {
    "deletable": false,
    "nbgrader": {
     "cell_type": "code",
     "checksum": "ed2c5c0c8c902ea391e8b6af89fb546e",
     "grade": true,
     "grade_id": "cell-14c6fbab1c345c71",
     "locked": false,
     "points": 1,
     "schema_version": 3,
     "solution": true,
     "task": false
    }
   },
   "outputs": [
    {
     "ename": "IndexError",
     "evalue": "Cannot choose from an empty sequence",
     "output_type": "error",
     "traceback": [
      "\u001b[1;31m---------------------------------------------------------------------------\u001b[0m",
      "\u001b[1;31mIndexError\u001b[0m                                Traceback (most recent call last)",
      "\u001b[1;32m<ipython-input-8-5583cf35daaf>\u001b[0m in \u001b[0;36m<module>\u001b[1;34m\u001b[0m\n\u001b[0;32m      5\u001b[0m     \u001b[1;32mfor\u001b[0m \u001b[0mline\u001b[0m \u001b[1;32min\u001b[0m \u001b[0mf\u001b[0m\u001b[1;33m:\u001b[0m\u001b[1;33m\u001b[0m\u001b[1;33m\u001b[0m\u001b[0m\n\u001b[0;32m      6\u001b[0m         \u001b[1;32mpass\u001b[0m\u001b[1;33m\u001b[0m\u001b[1;33m\u001b[0m\u001b[0m\n\u001b[1;32m----> 7\u001b[1;33m \u001b[0mprint\u001b[0m\u001b[1;33m(\u001b[0m\u001b[1;34m\"{kto} {co_zrobil} {jaki} {co}\"\u001b[0m\u001b[1;33m.\u001b[0m\u001b[0mformat\u001b[0m\u001b[1;33m(\u001b[0m\u001b[0mkto\u001b[0m \u001b[1;33m=\u001b[0m \u001b[0mrandom\u001b[0m\u001b[1;33m.\u001b[0m\u001b[0mchoice\u001b[0m\u001b[1;33m(\u001b[0m\u001b[0makto\u001b[0m\u001b[1;33m)\u001b[0m\u001b[1;33m,\u001b[0m \u001b[0mco_zrobil\u001b[0m \u001b[1;33m=\u001b[0m \u001b[0mrandom\u001b[0m\u001b[1;33m.\u001b[0m\u001b[0mchoice\u001b[0m\u001b[1;33m(\u001b[0m\u001b[0macozrobil\u001b[0m\u001b[1;33m)\u001b[0m\u001b[1;33m,\u001b[0m \u001b[0mjaki\u001b[0m \u001b[1;33m=\u001b[0m \u001b[0mrandom\u001b[0m\u001b[1;33m.\u001b[0m\u001b[0mchoice\u001b[0m\u001b[1;33m(\u001b[0m\u001b[0majaki\u001b[0m\u001b[1;33m)\u001b[0m\u001b[1;33m,\u001b[0m \u001b[0mco\u001b[0m \u001b[1;33m=\u001b[0m \u001b[0mrandom\u001b[0m\u001b[1;33m.\u001b[0m\u001b[0mchoice\u001b[0m\u001b[1;33m(\u001b[0m\u001b[0maco\u001b[0m\u001b[1;33m)\u001b[0m\u001b[1;33m)\u001b[0m\u001b[1;33m)\u001b[0m\u001b[1;33m\u001b[0m\u001b[1;33m\u001b[0m\u001b[0m\n\u001b[0m\u001b[0;32m      8\u001b[0m \u001b[1;31m# YOUR CODE HERE\u001b[0m\u001b[1;33m\u001b[0m\u001b[1;33m\u001b[0m\u001b[1;33m\u001b[0m\u001b[0m\n\u001b[0;32m      9\u001b[0m \u001b[1;32mraise\u001b[0m \u001b[0mNotImplementedError\u001b[0m\u001b[1;33m(\u001b[0m\u001b[1;33m)\u001b[0m\u001b[1;33m\u001b[0m\u001b[1;33m\u001b[0m\u001b[0m\n",
      "\u001b[1;32mD:\\Programy\\Anaconda\\lib\\random.py\u001b[0m in \u001b[0;36mchoice\u001b[1;34m(self, seq)\u001b[0m\n\u001b[0;32m    288\u001b[0m             \u001b[0mi\u001b[0m \u001b[1;33m=\u001b[0m \u001b[0mself\u001b[0m\u001b[1;33m.\u001b[0m\u001b[0m_randbelow\u001b[0m\u001b[1;33m(\u001b[0m\u001b[0mlen\u001b[0m\u001b[1;33m(\u001b[0m\u001b[0mseq\u001b[0m\u001b[1;33m)\u001b[0m\u001b[1;33m)\u001b[0m\u001b[1;33m\u001b[0m\u001b[1;33m\u001b[0m\u001b[0m\n\u001b[0;32m    289\u001b[0m         \u001b[1;32mexcept\u001b[0m \u001b[0mValueError\u001b[0m\u001b[1;33m:\u001b[0m\u001b[1;33m\u001b[0m\u001b[1;33m\u001b[0m\u001b[0m\n\u001b[1;32m--> 290\u001b[1;33m             \u001b[1;32mraise\u001b[0m \u001b[0mIndexError\u001b[0m\u001b[1;33m(\u001b[0m\u001b[1;34m'Cannot choose from an empty sequence'\u001b[0m\u001b[1;33m)\u001b[0m \u001b[1;32mfrom\u001b[0m \u001b[1;32mNone\u001b[0m\u001b[1;33m\u001b[0m\u001b[1;33m\u001b[0m\u001b[0m\n\u001b[0m\u001b[0;32m    291\u001b[0m         \u001b[1;32mreturn\u001b[0m \u001b[0mseq\u001b[0m\u001b[1;33m[\u001b[0m\u001b[0mi\u001b[0m\u001b[1;33m]\u001b[0m\u001b[1;33m\u001b[0m\u001b[1;33m\u001b[0m\u001b[0m\n\u001b[0;32m    292\u001b[0m \u001b[1;33m\u001b[0m\u001b[0m\n",
      "\u001b[1;31mIndexError\u001b[0m: Cannot choose from an empty sequence"
     ]
    }
   ],
   "source": [
    "import random\n",
    "akto = []; acozrobil = []; ajaki = []; aco = []\n",
    "\n",
    "with open('lab3_zad4\\\\01_kto.txt') as f:\n",
    "    for line in f:\n",
    "        akto.append(line)\n",
    "\n",
    "with open('lab3_zad4\\\\02_co_zrobil.txt') as f:\n",
    "    for line in f:\n",
    "        akto.append(line)\n",
    "with open('lab3_zad4\\\\01_kto.txt') as f:\n",
    "    for line in f:\n",
    "        akto.append(line)\n",
    "with open('lab3_zad4\\\\01_kto.txt') as f:\n",
    "    for line in f:\n",
    "        akto.append(line)\n",
    "print(\"{kto} {co_zrobil} {jaki} {co}\".format(kto = random.choice(akto), co_zrobil = random.choice(acozrobil), jaki = random.choice(ajaki), co = random.choice(aco)))\n",
    "# YOUR CODE HERE\n",
    "raise NotImplementedError()"
   ]
  },
  {
   "cell_type": "markdown",
   "metadata": {
    "deletable": false,
    "editable": false,
    "nbgrader": {
     "cell_type": "markdown",
     "checksum": "83ff9c6d96c9ccb5ba3edd93ec688ad6",
     "grade": false,
     "grade_id": "cell-39caf50a76aeae19",
     "locked": true,
     "schema_version": 3,
     "solution": false,
     "task": false
    }
   },
   "source": [
    " ## Zadanie 5a\n",
    " \n",
    " \n",
    " Utwórz plik o nazwie `z5_pl.py` zawierający słownik o nazwie `lang`:\n",
    " ```python\n",
    "lang={}\n",
    "lang['hello'] = 'Witaj, nieznajomy!'\n",
    "lang['info'] = 'Podaj dowolną liczbę, policzę dla Ciebie pierwiastek : '\n",
    "lang['error'] = 'Podane dane są nieprawidłowe'\n",
    "lang['bye'] = 'Żegnaj !'\n",
    "```\n",
    " \n",
    "Utwórz kolejny plik o nazwie np. `z5_en.py` zawierający taki sam słownik, ale z tekstem przetłumaczonym na np. angielski.\n",
    "Napisz program, który po uruchomieniu prosi użytkownika o wybranie języka. Jeśli użytkownik wpisze `pl`, importowany jest moduł __z5_pl__. Jeśli wpisze `en`, importowany jest moduł __z5_en__. Import może być używany wewnątrz instrukcji warunkowych. Następnie, po załadowaniu odpowiedniego modułu, program liczy pierwiastek liczby podanej przez użytkownika. Wszystkie wiadomości wypisywane po wyborze języka powinny być odczytywane ze słownika `lang`. Na początek wypisywane jest powitanie oraz prośba o wpisanie liczby. Jeśli użytkownik wpisze liczbę ujemną, wypisywany jest błąd. W przeciwnym razie, wypisywany jest wynik i pożegnanie."
   ]
  },
  {
   "cell_type": "code",
   "execution_count": null,
   "metadata": {
    "deletable": false,
    "nbgrader": {
     "cell_type": "code",
     "checksum": "738d25d3dcc19a5734bf876603d04e79",
     "grade": true,
     "grade_id": "cell-d2603671d82f278b",
     "locked": false,
     "points": 1,
     "schema_version": 3,
     "solution": true,
     "task": false
    }
   },
   "outputs": [],
   "source": [
    "# YOUR CODE HERE\n",
    "raise NotImplementedError()"
   ]
  },
  {
   "cell_type": "markdown",
   "metadata": {
    "deletable": false,
    "editable": false,
    "nbgrader": {
     "cell_type": "markdown",
     "checksum": "8b3e1b5b6ad2fe0cc976cca9b4db05f4",
     "grade": false,
     "grade_id": "cell-6627f96eb7111446",
     "locked": true,
     "schema_version": 3,
     "solution": false,
     "task": false
    }
   },
   "source": [
    "# Temat_3b: \n",
    "# Klasy. Metody wbudowane i atrybuty specjalne. Hermetyzacja. Dziedziczenie. Polimorfizm.\n",
    "Zapoznaj się z treścią niniejszego notatnika czytając i wykonując go komórka po komórce. Wykonaj napotkane zadania/ćwiczenia.\n",
    "\n",
    "## Klasy.\n",
    "\n",
    "- Do definicji klasy służy słowo kluczowe `class`.\n",
    "- W Pythonie każda klasa dziedziczy po klasie `object`.\n",
    "- Atrybut klasy to zmienna zdefiniowana wewnątrz klasy.\n",
    "- Metoda klasy to funkcja zdefiniowana wewnątrz klasy.\n",
    "- Pierwszy argument każdej metody `self` jest referencją do obiektu, na rzecz którego ta metoda została wywołana.\n",
    "- W Pythonie przyjęto konwencje `self` ale może to być dowolna nazwa, np. `this` jak w C++.\n",
    "- Podczas wywołania metody obiektu nie wymieniamy na liście argumentów formalnych argumentu `self`. Jest on automatycznie przekazywany przez Pythona do metody.\n",
    "- Kiedy wprowadza się definicje klasy do programu, tworzona jest nowa przestrzeń nazw (zasieg lokalny - wszystkie przypisania do zmiennych lokalnych dotyczą nazw z tej właśnie przestrzeni).\n",
    "\n",
    "### Definicja klasy "
   ]
  },
  {
   "cell_type": "code",
   "execution_count": null,
   "metadata": {},
   "outputs": [],
   "source": [
    "class MY_CLASS:  # lub / class MY_CLASS(object): / class MY_CLASS(): /\n",
    "    i = 1.0  # atrybut/składowa klasy\n",
    "    k = 12   # atrybut/składowa klasy\n",
    "    \n",
    "    def get_i(self):  # metoda klasy - zwraca wartość zmiennej i\n",
    "        return self.i\n",
    "    \n",
    "    def set_i(self, ii): # metoda klasy - ustawia wartość zmiennej i\n",
    "        self.i = ii\n",
    "    \n",
    "    def disp(self):  # metoda klasy - wypisuje wartość składowych i,k\n",
    "        print('obiekt MY_CLASS')\n",
    "        print('wartość i = ',self.i) \n",
    "        print('wartość k = ',self.k) "
   ]
  },
  {
   "cell_type": "markdown",
   "metadata": {
    "deletable": false,
    "editable": false,
    "nbgrader": {
     "cell_type": "markdown",
     "checksum": "555b45b834238721aa573923fa7aca7c",
     "grade": false,
     "grade_id": "cell-7e3b54950431a362",
     "locked": true,
     "schema_version": 3,
     "solution": false,
     "task": false
    }
   },
   "source": [
    "#### Odniesienie do atrybutu klasy\n",
    "\n",
    "Odniesienie do atrybutu klasy odbywa się poprzez standardową konstrukcję:\n",
    "\n",
    "`obiekt.nazwa`\n",
    "\n",
    "Prawidłowymi nazwami atrybutów są nazwy, które istniały w przestrzeni nazw klasy w czasie tworzenia jej obiektu."
   ]
  },
  {
   "cell_type": "code",
   "execution_count": null,
   "metadata": {},
   "outputs": [],
   "source": [
    "MY_CLASS.i  # odwołanie do składowej i klasy MY_CLASS"
   ]
  },
  {
   "cell_type": "code",
   "execution_count": null,
   "metadata": {},
   "outputs": [],
   "source": [
    "MY_CLASS.get_i  # odwołanie do metody get_i klasy MY_CLASS"
   ]
  },
  {
   "cell_type": "markdown",
   "metadata": {
    "deletable": false,
    "editable": false,
    "nbgrader": {
     "cell_type": "markdown",
     "checksum": "706ae3685fc237c90763d71c652f047b",
     "grade": false,
     "grade_id": "cell-35e7ed8e1df775fe",
     "locked": true,
     "schema_version": 3,
     "solution": false,
     "task": false
    }
   },
   "source": [
    "#### Utworzenie nowego obiektu klasy `MY_CLASS` (konkretyzacja klasy).\n",
    "\n",
    "Konkretyzację klasy przeprowadza się używając notacji wywołania funkcji. Należy tylko udać, że obiekt klasy jest bezparametrową funkcją, która zwraca instancję (konkret) klasy.\n",
    "\n",
    "Usunięcie obiektu polecenie: `del`."
   ]
  },
  {
   "cell_type": "code",
   "execution_count": null,
   "metadata": {},
   "outputs": [],
   "source": [
    "a = MY_CLASS()  # nowa instancja klasy MY_CLASS\n",
    "b = MY_CLASS()  # nowa instancja klasy MY_CLASS\n",
    "print(id(a),id(b))"
   ]
  },
  {
   "cell_type": "code",
   "execution_count": null,
   "metadata": {},
   "outputs": [],
   "source": [
    "a = MY_CLASS()\n",
    "print(a.i)  # odwołanie do składowej i obiektu a klasy MY_CLASS\n",
    "a.disp()  # odwołanie do metody disp() obiektu a klasy MY_CLASS\n",
    "print(a.get_i())  # odwołanie do metody get_i() obiektu a klasy MY_CLASS\n",
    "a.set_i(10)  # odwołanie do metody set_i() obiektu a klasy MY_CLASS\n",
    "a.disp()\n",
    "\n",
    "MY_CLASS.get_i(a)  # odwołanie do metody get_i() klasy MY_ClASS dla obiektu a"
   ]
  },
  {
   "cell_type": "markdown",
   "metadata": {
    "deletable": false,
    "editable": false,
    "nbgrader": {
     "cell_type": "markdown",
     "checksum": "801af9d6cd4b7a49194a51433996527b",
     "grade": false,
     "grade_id": "cell-cc26c943dc2c9a22",
     "locked": true,
     "schema_version": 3,
     "solution": false,
     "task": false
    }
   },
   "source": [
    "### Metody wbudowane i atrybuty specjalne\n",
    "\n",
    "Nazwy metod specjalnych zawsze rozpoczynają się i kończą dwoma znakami podkreślenia, np.:\n",
    "\n",
    "`__init__()`\n",
    "\n",
    "Python używa metod specjalnych w następujących przypadkach:\n",
    "- tworzenie i usuwanie egzemplarza;\n",
    "- tworzenie reprezentacji łancuchowych egzemplarza;\n",
    "- definiowanie wartości prawdziwości egzemplarza;\n",
    "- porównywanie egzemplarzy;\n",
    "- dostęp do atrybutów egzemplarza;\n",
    "- traktowanie egzemplarzy jak sekwencji i słowników;\n",
    "- wykonywanie operacji matematycznych na egzemplarzach\n",
    "\n",
    "Lista metod specjalnych patrz link: https://docs.python.org/3/reference/datamodel.html#special-method-names ,\n",
    "\n",
    "lub: https://pl.python.org/docs/ref/node15.html\n",
    "\n",
    "Wybrane specjalne atrybuty, metody do użycia:\n",
    "\n",
    "\n",
    "- `__doc__` atrybut zawierający tzw.łańcuch dokumentacyjny. Jeżeli nie zostanie podany wartość atrybutu wynosi `None`.\n",
    "- `__dict__` atrybut zawierający nazwy i wartości zdefiniowanych zmiennych\n",
    "- `__init__()` inicjalizacja stanu początkowego\n",
    "- `__del__()`  metoda wywoływana tuż przed zniszczeniem instancji po osiągnięciu przez licznik odwołań wartości zero\n",
    "- `__repr__()` „oficjalna” reprezentacja obiektu, powinna być jednoznaczna; wywołana przez `repr(obiekt)`; konwertuje obiekt klasy do stringa \n",
    "- `__str__()` „nieformalna” reprezentacja obiektu, powinna być czytelna; wywołana przez `str(obiekt)` lub `print`; konwertuje obiekt klasy do stringa\n",
    "- `help()` informacja o obiekcie\n",
    "- `self.__class__` atrybut każdego obiektu - referencja do klasy, której obiektem jest `self`.\n",
    "\n",
    "#### Inicjalizacja stanu początkowego\n",
    "\n",
    "- Służy do tego wbudowana metoda `__init__()`.\n",
    "- Stosujemy jeżeli dla klasy występuje konieczność utworzenia obiektu z pewnym znanym, początkowym stanem. \n",
    "- W momencie konkretyzacji klasy, automatycznie wywołana zostanie metoda `__init__()` dla nowopowstałego konkretu klasy. (działa prawie jak konstruktor, ale wywoływana po utworzeniu instancji.)\n",
    "- Zmienne instancji definiujemy w metodzie `__init__()`.\n",
    "- Nazwy i wartości zdefiniowanych zmiennych obiektu znajdują się w atrybucie wbudowanym `__dict__` ."
   ]
  },
  {
   "cell_type": "code",
   "execution_count": null,
   "metadata": {},
   "outputs": [],
   "source": [
    "class MY_CLASS:  # lub / class MY_CLASS(object): / class MY_CLASS(): /\n",
    "    def __init__(self, i, k):  # metoda klasy - ustawia wartości początkowe\n",
    "        self.i = i  # atrybut/składowa instancji klasy \n",
    "        self.k = k  # atrybut/składowa instancji klasy\n",
    "    \n",
    "    def get_i(self):  # metoda klasy - zwraca wartość zmiennej i\n",
    "        return self.i\n",
    "    \n",
    "    def set_i(self,ii):  # metoda klasy - ustawia wartość zmiennej i\n",
    "        self.i = ii\n",
    "    \n",
    "    def disp(self):  # metoda klasy - wypisuje wartość składowych i,k\n",
    "        print('obiekt MY_CLASS')\n",
    "        print('wartość i = ',self.i) \n",
    "        print('wartość k = ',self.k)"
   ]
  },
  {
   "cell_type": "code",
   "execution_count": null,
   "metadata": {},
   "outputs": [],
   "source": [
    "a = MY_CLASS(1,2)\n",
    "b = MY_CLASS(3,4)\n",
    "a.disp()  # odwołanie do metody disp() obiektu a klasy MY_CLASS\n",
    "b.disp()  # odwołanie do metody disp() obiektu b klasy MY_CLASS\n",
    "print(a.__dict__)  # nazwy i wartości zmienych w obiekcie a\n",
    "print(b.__dict__)  # nazwy i wartości zmienych w obiekcie b\n",
    "print(a.__class__) #referencja do klasy, której obiektem jest a"
   ]
  },
  {
   "cell_type": "markdown",
   "metadata": {
    "deletable": false,
    "editable": false,
    "nbgrader": {
     "cell_type": "markdown",
     "checksum": "5806458f87cd3b69c157e7848b73ebfb",
     "grade": false,
     "grade_id": "cell-6b67e7034ae8ec01",
     "locked": true,
     "schema_version": 3,
     "solution": false,
     "task": false
    }
   },
   "source": [
    "W Pythonie można dodawać nowe atrybuty do istniejących obiektów.\n",
    "\n",
    "Uwaga. Nie jest to zalecane!"
   ]
  },
  {
   "cell_type": "code",
   "execution_count": null,
   "metadata": {},
   "outputs": [],
   "source": [
    "a = MY_CLASS(1,2)\n",
    "a.disp()\n",
    "print(a.__dict__)\n",
    "a.m = 99\n",
    "print(a.__dict__) "
   ]
  },
  {
   "cell_type": "markdown",
   "metadata": {
    "deletable": false,
    "editable": false,
    "nbgrader": {
     "cell_type": "markdown",
     "checksum": "db091804ee9197f524948d10b80ab795",
     "grade": false,
     "grade_id": "cell-e536248da253b274",
     "locked": true,
     "schema_version": 3,
     "solution": false,
     "task": false
    }
   },
   "source": [
    "Czasami potrzebne jest użycie typu danych spotykanego w Pascalu pod nazwą rekordu lub struktury w C.\n",
    "\n",
    "W prosty sposób można to wyrazić za pomocą pustej definicji klasy."
   ]
  },
  {
   "cell_type": "code",
   "execution_count": null,
   "metadata": {},
   "outputs": [],
   "source": [
    "class Pracownik:\n",
    "    pass\n",
    "\n",
    "tomek = Pracownik() # Tworzy pusty rekord pracownika\n",
    "# Wypełnienie pól w rekordzie\n",
    "tomek.nazwa = 'Tomek Kowalski'\n",
    "tomek.miejsce = 'Laboratorium komputerowe'\n",
    "tomek.pensja = '2500'"
   ]
  },
  {
   "cell_type": "markdown",
   "metadata": {
    "deletable": false,
    "editable": false,
    "nbgrader": {
     "cell_type": "markdown",
     "checksum": "f2a91751d581882ecb69293a7e0069f2",
     "grade": false,
     "grade_id": "cell-155c98195a5a1929",
     "locked": true,
     "schema_version": 3,
     "solution": false,
     "task": false
    }
   },
   "source": [
    "#### Dokumentacja klasy (funkcji)\n",
    "\n",
    "- Na początku definicji klasy możemy umieścić wiersz dokumentacyjny.\n",
    "- Wiersz dokumentacyjny może być stosowany również w funkcjach. \n",
    "- Łancuch dokumentacyjny jest przypisywany jako wartość atrybutu `__doc__` . \n",
    "- Jeżeli nie zostanie podany łancuch dokumentacyjny to wartością atrybutu `__doc__` jest `None`."
   ]
  },
  {
   "cell_type": "code",
   "execution_count": null,
   "metadata": {},
   "outputs": [],
   "source": [
    "class MY_CLASS:  # lub / class MY_CLASS(object): / class MY_CLASS(): /\n",
    "    \"\"\"Nasza przykładowa klasa\"\"\"\n",
    "    \n",
    "    def __init__(self, i, k):  # metoda klasy - ustawia wartości początkowe\n",
    "        self.i = i  # atrybut/składowa instancji klasy \n",
    "        self.k = k  # atrybut/składowa instancji klasy\n",
    "    \n",
    "    def get_i(self):  # metoda klasy - zwraca wartość zmiennej i\n",
    "        \"\"\"Metoda naszej klasy zwracająca wartość składowej i\"\"\"\n",
    "        return self.i\n",
    "    \n",
    "    def set_i(self, ii):  # metoda klasy - ustawia wartość zmiennej i\n",
    "        \"\"\"Metoda naszej klasy ustawiająca nową wartość składowej i\"\"\"\n",
    "        self.i = ii\n",
    "    \n",
    "    def disp(self):  # metoda klasy - wypisuje wartość składowych i,k\n",
    "        \"\"\"Metoda naszej klasy wypisująca wartości składowych i,k\"\"\"\n",
    "        print('obiekt MY_CLASS')\n",
    "        print('wartość i = ', self.i) \n",
    "        print('wartość k = ', self.k) "
   ]
  },
  {
   "cell_type": "code",
   "execution_count": null,
   "metadata": {},
   "outputs": [],
   "source": [
    "a = MY_CLASS(1,2)\n",
    "a.__doc__  # wiersz dokumentacyjny dla instancji a klasy MY_CLASS"
   ]
  },
  {
   "cell_type": "code",
   "execution_count": null,
   "metadata": {},
   "outputs": [],
   "source": [
    "a.get_i.__doc__  # wiersz dokumentacyjny dla metody get_i() w instancji a klasy MY_CLASS"
   ]
  },
  {
   "cell_type": "code",
   "execution_count": null,
   "metadata": {},
   "outputs": [],
   "source": [
    "b = a\n",
    "help(a)  # wyświetlenie informacji o obiekcie"
   ]
  },
  {
   "cell_type": "markdown",
   "metadata": {
    "deletable": false,
    "editable": false,
    "nbgrader": {
     "cell_type": "markdown",
     "checksum": "aca30d2afddabfd8ee4cf038f0ba0daa",
     "grade": false,
     "grade_id": "cell-2c68d4e11f7f4381",
     "locked": true,
     "schema_version": 3,
     "solution": false,
     "task": false
    }
   },
   "source": [
    "## Ćwiczenie 1b\n",
    "\n",
    "Utwórz klasę `MY_STACK` która implementuje algorytm LIFO (stos).\n",
    "\n",
    "Klasa musi zawierać:\n",
    "\n",
    "I. składowe:\n",
    "\n",
    "- lista wykorzystywana jako stos (na początku = []);\n",
    "\n",
    "- liczba elementów na stosie (na początku = 0);\n",
    "\n",
    "II. metody:\n",
    "\n",
    "- dodaj element do stosu (funkcja `append()`);\n",
    "\n",
    "- pobierz element ze stosu (funkcja `pop()`), jeżeli na stosie nic nie ma komunikat \"stos pusty\":\n",
    "\n",
    "- sprawdź aktualną liczbę elementów na stosie\n",
    "\n",
    "Napisz program, który dla wybranej opcji wykona żądaną operację:\n",
    "\n",
    "```python\n",
    "while op != 3:\n",
    "    #print('kod dzialania? (0 - push, 1 - pop, 2 - ilosc elementow, 3 - koniec)\\n')\n",
    "    op = int(input('kod dzialania? (0 - push, 1 - pop, 2 - ilosc elementow, 3 - koniec)\\n'))\n",
    "```\n",
    "Jeżeli zostanie wybrana inna opcja program wyświetli komunikat: `błędne działanie`.  \n",
    "\n",
    "\n",
    "Stos to liniowa struktura danych, w której dane dodawane są tylko na szczyt stosu i tylko ze szczytu stosu sa pobierane. Jest to bufor typu LIFO (ang. Last-In-First-Out) – ostatnie weszło, pierwsze wyszło."
   ]
  },
  {
   "cell_type": "code",
   "execution_count": 10,
   "metadata": {
    "deletable": false,
    "nbgrader": {
     "cell_type": "code",
     "checksum": "d65b685876a5986541fe45b5143b3c56",
     "grade": false,
     "grade_id": "cell-067493a4045a874a",
     "locked": false,
     "schema_version": 3,
     "solution": true,
     "task": false
    }
   },
   "outputs": [
    {
     "name": "stdout",
     "output_type": "stream",
     "text": [
      "kod dzialania? (0 - push, 1 - pop, 2 - ilosc elementow, 3 - koniec)\n",
      "0\n",
      "wprowadź wartość1\n",
      "kod dzialania? (0 - push, 1 - pop, 2 - ilosc elementow, 3 - koniec)\n",
      "0\n",
      "wprowadź wartość2\n",
      "kod dzialania? (0 - push, 1 - pop, 2 - ilosc elementow, 3 - koniec)\n",
      "2\n",
      "pozostało elementów 2\n",
      "kod dzialania? (0 - push, 1 - pop, 2 - ilosc elementow, 3 - koniec)\n",
      "1\n",
      "pobrano ze stosu 2.0\n",
      "kod dzialania? (0 - push, 1 - pop, 2 - ilosc elementow, 3 - koniec)\n",
      "1\n",
      "pobrano ze stosu 1.0\n",
      "kod dzialania? (0 - push, 1 - pop, 2 - ilosc elementow, 3 - koniec)\n",
      "1\n",
      "stos pusty\n",
      "pobrano ze stosu None\n",
      "kod dzialania? (0 - push, 1 - pop, 2 - ilosc elementow, 3 - koniec)\n",
      "3\n"
     ]
    }
   ],
   "source": [
    "# YOUR CODE HERE\n",
    "#raise NotImplementedError()\n",
    "class MY_STACK():\n",
    "    def __init__(self):\n",
    "        self.stos = []\n",
    "        self.liczba = 0\n",
    "    def s_push(self, a):\n",
    "        self.stos.append(a)\n",
    "        self.liczba += 1\n",
    "    def s_pop(self):\n",
    "        if self.liczba <= 0:\n",
    "            print('stos pusty')\n",
    "            return\n",
    "        self.liczba -= 1\n",
    "        return self.stos.pop()\n",
    "    def get_num(self):\n",
    "        return self.liczba\n",
    "\n",
    "st = MY_STACK()    \n",
    "op = 0\n",
    "while op != 3:\n",
    "    #print('kod dzialania? (0 - push, 1 - pop, 2 - ilosc elementow, 3 - koniec)\\n')\n",
    "    op = int(input('kod dzialania? (0 - push, 1 - pop, 2 - ilosc elementow, 3 - koniec)\\n'))\n",
    "    if op == 0:\n",
    "        st.s_push(float(input('wprowadź wartość')))\n",
    "    elif op == 1:\n",
    "        print('pobrano ze stosu',st.s_pop())\n",
    "    elif op == 2:\n",
    "        print('pozostało elementów', st.get_num())\n",
    "    elif op == 3:\n",
    "        break\n",
    "    else:\n",
    "        print('błędne działanie')"
   ]
  },
  {
   "cell_type": "markdown",
   "metadata": {
    "deletable": false,
    "editable": false,
    "nbgrader": {
     "cell_type": "markdown",
     "checksum": "bd0578abde7a67b0b3281db4a56fbde9",
     "grade": false,
     "grade_id": "cell-07f8e8047eca29b4",
     "locked": true,
     "schema_version": 3,
     "solution": false,
     "task": false
    }
   },
   "source": [
    "#### Metody `str` i `repr`.\n",
    "\n",
    "Metody konwertują obiekt klasy do reprezentacji napisowej (string). \n",
    "\n",
    "Metoda specjalna  `__repr__(self)`:\n",
    "\n",
    "- Wywoływana przez wbudowaną funkcję `repr()` do wygenerowania \"oficjalnej\" reprezentacji napisowej obiektu. \n",
    "- reprezentacja napisowa powinna zawierać pełną informacje o obiekcie i być jednoznaczna.\n",
    "- Jeśli to możliwe, napis powinien być poprawnym wyrażeniem w Pythonie, po przewartościowaniu którego otrzymamy obiekt o tej samej wartości (w odpowiednim środowisku). \n",
    "- Jeżeli klasa implementuje metodę `__repr__()`, a nie implementuje metody `__str__()`, wówczas metoda `__repr__()` stosowana jest w zastępstwie `__str__()`.\n",
    "- Metoda ta jest zwykle używana podczas debugowania - przeznaczona dla developerów.\n",
    "\n",
    "Metoda specjalna `__str__()`:\n",
    "\n",
    "- Wywoływana przez wbudowaną funkcję `str()` oraz instrukcję `print` do wygenerowania \"informacyjnej\" reprezentacji napisowej obiektu.\n",
    "- Metoda generalnie przeznaczona dla użytkowników."
   ]
  },
  {
   "cell_type": "code",
   "execution_count": null,
   "metadata": {},
   "outputs": [],
   "source": [
    "# Klasa z metodami __str__() i __repr__()\n",
    "class MY_CLASS: \n",
    "    def __init__(self, i, k): \n",
    "        self.i = i \n",
    "        self.k = k \n",
    "        \n",
    "    def get_i(self): \n",
    "        return self.i\n",
    "    \n",
    "    def set_i(self,ii): \n",
    "        self.i = ii\n",
    "    \n",
    "    def __str__(self): \n",
    "        return 'obiekt MY_CLASS, i = {}, k = {}'.format(self.i, self.k)\n",
    "    \n",
    "    def __repr__(self): \n",
    "        return 'MY_CLASS({},{})'.format(self.i, self.k)"
   ]
  },
  {
   "cell_type": "code",
   "execution_count": null,
   "metadata": {},
   "outputs": [],
   "source": [
    "a = MY_CLASS(10, 20)\n",
    "print(a)  # wykonywana jest metoda __str__()\n",
    "a  # wykonywana jest metoda __repr__()"
   ]
  },
  {
   "cell_type": "markdown",
   "metadata": {
    "deletable": false,
    "editable": false,
    "nbgrader": {
     "cell_type": "markdown",
     "checksum": "7621b6e44183b8d95e63defe5aa3b2ba",
     "grade": false,
     "grade_id": "cell-c502bc7a090e7153",
     "locked": true,
     "schema_version": 3,
     "solution": false,
     "task": false
    }
   },
   "source": [
    "Wypisywanie informacji o obiekcie, którego składowymi są obiekty klasy MY_CLASS."
   ]
  },
  {
   "cell_type": "code",
   "execution_count": null,
   "metadata": {},
   "outputs": [],
   "source": [
    "b = [MY_CLASS(1,2), MY_CLASS(3,4), MY_CLASS(5,6)] \n",
    "print(b)  # dla obiektu wykonywana jest metoda __repr__()\n",
    "print(b[0]) # dla konkretnej instancji klasy wykonywana jest metoda __str__()"
   ]
  },
  {
   "cell_type": "markdown",
   "metadata": {
    "deletable": false,
    "editable": false,
    "nbgrader": {
     "cell_type": "markdown",
     "checksum": "16181a794fd96488e93bb995d39bfe71",
     "grade": false,
     "grade_id": "cell-5a153c9e1e0a0aa9",
     "locked": true,
     "schema_version": 3,
     "solution": false,
     "task": false
    }
   },
   "source": [
    "Jeżeli klasa implementuje metodę `__repr__()`, a nie implementuje metody `__str__()`, wówczas metoda `__repr__()` stosowana jest w zastępstwie `__str__()`."
   ]
  },
  {
   "cell_type": "code",
   "execution_count": null,
   "metadata": {},
   "outputs": [],
   "source": [
    "# Klasa tylko z metodą __repr__()\n",
    "class MY_CLASS: \n",
    "    def __init__(self, i, k): \n",
    "        self.i = i \n",
    "        self.k = k \n",
    "    \n",
    "    def get_i(self): \n",
    "        return self.i\n",
    "    \n",
    "    def set_i(self,ii): \n",
    "        self.i = ii\n",
    "    \n",
    "    def __repr__(self): \n",
    "        return 'MY_CLASS({},{})'.format(self.i, self.k)"
   ]
  },
  {
   "cell_type": "code",
   "execution_count": null,
   "metadata": {},
   "outputs": [],
   "source": [
    "a = MY_CLASS(10, 20)\n",
    "print(a)  # wykonywana jest metoda __repr__() ponieważ nie ma metody__str__()\n",
    "a  # wykonywana jest metoda __repr__()"
   ]
  },
  {
   "cell_type": "markdown",
   "metadata": {
    "deletable": false,
    "editable": false,
    "nbgrader": {
     "cell_type": "markdown",
     "checksum": "46f39452da181045bd8d15476c2cf9be",
     "grade": false,
     "grade_id": "cell-93609148ce9e70bd",
     "locked": true,
     "schema_version": 3,
     "solution": false,
     "task": false
    }
   },
   "source": [
    "### Ćwiczenie 2b\n",
    "\n",
    "Utwórz klasę `MY_VOL`, której celem jest obliczenie objętości prostopadłościanu V = abc, gdzie a, b, c – wymiary krawędzi. Wartości a, b, c (typu `float`) mają być przekazywane konstruktorowi tej klasy. Dane należy wprowadzić poprzez standardowe wejście (z klawiatury). Klasa musi zawierać: \n",
    "\n",
    "I. funkcję obliczającą objętości V; \n",
    "\n",
    "II. funkcję wyświetlającą wynik na monitorze. \n",
    "\n",
    "III. metody `__str__()` i `__repr__()`.\n",
    "\n"
   ]
  },
  {
   "cell_type": "code",
   "execution_count": null,
   "metadata": {
    "deletable": false,
    "nbgrader": {
     "cell_type": "code",
     "checksum": "74dc78ecd4272c7791e14389f28e2063",
     "grade": false,
     "grade_id": "cell-9b1bc4fa17bb7447",
     "locked": false,
     "schema_version": 3,
     "solution": true,
     "task": false
    }
   },
   "outputs": [],
   "source": [
    "import math\n",
    "# YOUR CODE HERE\n",
    "raise NotImplementedError()\n",
    "\n",
    "a = float(input('Podaj a: '))\n",
    "b = float(input('Podaj b: '))\n",
    "c = float(input('Podaj c: '))\n",
    "\n",
    "p = MY_VOL(a, b, c)\n",
    "p.disp()\n",
    "print(p)\n",
    "p"
   ]
  },
  {
   "cell_type": "markdown",
   "metadata": {
    "deletable": false,
    "editable": false,
    "nbgrader": {
     "cell_type": "markdown",
     "checksum": "76e7da1af33ff1bbeffac81adeeaf288",
     "grade": false,
     "grade_id": "cell-3aae1afca9d39aa1",
     "locked": true,
     "schema_version": 3,
     "solution": false,
     "task": false
    }
   },
   "source": [
    "### Hermetyzacja\n",
    "\n",
    " Hermetyzacja – to mechanizm, łączący w całość kod i dane, na których on operuje, zabezpieczający je przed zewnętrzną ingerencją i niepoprawnym użyciem. \n",
    " \n",
    " Uwagi ogólne:\n",
    "- Kod i dane są połączone w obiekcie, który realizuje hermetyzacje \n",
    "- Znajdujące się wewnątrz obiektu kod i dane mogą być prywatne lub publiczne \n",
    "- Prywatny kod i dane są dostępne tylko w obszarze obiektu. Na zewnątrz obiektu składniki prywatne są ukryte – ani prywatny kod, ani prywatne dane nie mogą być wykorzystywane przez fragmenty programu, znajdujące się poza obiektem.\n",
    "- Publiczny kod i dane są dostępne dla innych elementów programu, znajdujących się jak wewnątrz obiektu, tak i poza nim. Najczęściej składniki publiczne obiektu są wykorzystywane do tworzenia interfejsu do prywatnych elementów obiektu.\n",
    "\n",
    "W Pythonie:\n",
    "\n",
    "- Wszyskie składowe klasy są publiczne.\n",
    "- Python posiada pewien ograniczony mechanizm implementacji zmiennych prywatnych klasy. Zmienne prywatne sygnalizuje się poprzez poprzedzenie nazwy znakiem podkreślenia `_` .\n",
    "- W Pythonie możemy zdefiniować również tzw. zmienne bardziej prywatne poprzez poprzedzenie nazwy dwoma znakami podkreślenia `__`.\n",
    "- Python zgłasza wyjątek `AttributeError` przy próbie dostępu z zewnątrz klasy do nazwy bardziej prywatnej.\n",
    "- Python ukrywa nazwę prywatną zmieniając jej nazwę wewnętrzną na `_classname__attrname`, gdzie `classname` jest nazwą bieżącej klasy.\n",
    "- Taki mechanizm \"zabezpieczania\" nazywany przekręcaniem nazw (`name mangling`) jest w istocie iluzją, bowiem można uzyskać dostęp do prywatnego atrybutu posługując się jego przekreconą nazwą.\n",
    "\n",
    "#### Przykład.\n",
    "\n",
    "Atrybuty publiczne, prywatne i bardziej prywatne."
   ]
  },
  {
   "cell_type": "code",
   "execution_count": null,
   "metadata": {},
   "outputs": [],
   "source": [
    "class Student:\n",
    "    def __init__(self,imie1,imie2):\n",
    "        self.imie1 = imie1   # atrybut publiczny\n",
    "        self._imie2 = imie2  # atrybut prywatny\n",
    "        \n",
    "    def powitanie(self):  # metoda publiczna\n",
    "        print(\"Witaj {}\".format(self.imie1))\n",
    "    \n",
    "    def _powitanie(self):  # metoda prywatna\n",
    "        print(\"Witaj {} {}\".format(self.imie1,self._imie2))    "
   ]
  },
  {
   "cell_type": "code",
   "execution_count": null,
   "metadata": {},
   "outputs": [],
   "source": [
    "a = Student('Jan',\"Maria\")\n",
    "a.powitanie()\n",
    "a._powitanie()"
   ]
  },
  {
   "cell_type": "code",
   "execution_count": null,
   "metadata": {},
   "outputs": [],
   "source": [
    "class Student:\n",
    "    def __init__(self,imie1,imie2):\n",
    "        self.imie1 = imie1   # atrybut publiczny\n",
    "        self.__imie2 = imie2  # atrybut bardziej prywatny\n",
    "    \n",
    "    def powitanie(self):  # metoda publiczna\n",
    "        print(\"Witaj {}\".format(self.imie1))\n",
    "    \n",
    "    def __powitanie(self):  # metoda bardziej prywatna\n",
    "        print(\"Witaj {} {}\".format(self.imie1,self.__imie2))"
   ]
  },
  {
   "cell_type": "code",
   "execution_count": null,
   "metadata": {},
   "outputs": [],
   "source": [
    "a = Student('Jan',\"Maria\")\n",
    "a.powitanie()\n",
    "a.__powitanie()  # zgłoszenie wyjatku AttributeError"
   ]
  },
  {
   "cell_type": "markdown",
   "metadata": {
    "deletable": false,
    "editable": false,
    "nbgrader": {
     "cell_type": "markdown",
     "checksum": "33b3144ef46a41197443efab69f3a1c4",
     "grade": false,
     "grade_id": "cell-217b8ebe0eb7c323",
     "locked": true,
     "schema_version": 3,
     "solution": false,
     "task": false
    }
   },
   "source": [
    "Python ukrywa nazwę bardziej prywatną zmieniając jej nazwe wewnętrzną na `_classname__attrname`.\n",
    "\n",
    "To oznacza, że mamy dostęp do zmiennych bardziej prywatnych."
   ]
  },
  {
   "cell_type": "code",
   "execution_count": null,
   "metadata": {},
   "outputs": [],
   "source": [
    "# możliwy dostęp do zmiennej bardziej prywatnej\n",
    "a._Student__powitanie()\n",
    "a._Student__imie2"
   ]
  },
  {
   "cell_type": "markdown",
   "metadata": {
    "deletable": false,
    "editable": false,
    "nbgrader": {
     "cell_type": "markdown",
     "checksum": "1fc5e3225b05a54ee7eb0baa8b35c157",
     "grade": false,
     "grade_id": "cell-07a3463044ad2722",
     "locked": true,
     "schema_version": 3,
     "solution": false,
     "task": false
    }
   },
   "source": [
    "### Dziedziczenie\n",
    "\n",
    "Dziedziczenie to proces, w którym obiekt otrzymuje właściwości innego obiektu. \n",
    "\n",
    "Uwagi ogólne:\n",
    "- Jest to bardzo ważne, gdyż pozwala realizować zasadę klasyfikacji. Okazuje się, że większość informacji można uporządkować w sposób hierarchiczny. Na przykład, autobus i pociąg są częścią klasy transport, klasa transport jest częścią klasy maszyny. \n",
    "- Gdyby nie dziedziczenie, cechy każdego obiektu trzeba by było definiować każdorazowo w sposób jawny. Jednak, dzięki klasyfikacji, dla obiektu trzeba zdefiniować te cechy, które czynią go niepowtarzalnym w obrębie klasy. Mechanizm dziedziczenia powoduje, że obiekt może być specyficznym egzemplarzem bardziej ogólnej klasy.\n",
    "\n",
    "W Pythonie: \n",
    "- Dziedziczenie umożliwia ponowne wykorzystanie funkcjonalności klas bazowych w klasach pochodnych.\n",
    "- Klasa pochodna może posiadać dodatkowe atrybuty i metody oraz redefiniować metody odziedziczone.\n",
    "- Jeśli klasa pochodna definiuje atrybut o takiej samej nazwie, jaką ma atrybut jej klasy bazowej, to instancje klasy pochodnej korzystają z jej atrybutów, chyba że atrybut ten jest jawnie kwalifikowany za pomoca nazwy klasy bazowej ( `NazwaKlasyPodstawowej.nazwa_metody(self, argumenty)`).\n",
    "- Klasa bazowa musi być zdefiniowana w zasiegu zawierajacym definicje klasy pochodnej. \n",
    "- Zamiast nazwy klasy bazowej dopuszcza się również wyrażenie (np. jeśli nazwa klasy bazowej zdefiniowana jest w innym module `class NazwaKlasyPochodnej(modul.NazwaKlasyBazowe):`).\n",
    "- W Pythonie występują dwie funkcje wbudowane związane z dziedziczeniem klas:\n",
    "    - `isinstance()` - sprawdza typ obiektu, np.: `isinstance(obj, int)` będzie prawdą  - `True` jeśli `obj.__class__` jest równy `int` lub klasie pochodnej\n",
    "\n",
    "    - `issubclass()` - sprawdza typ dziedziczonej klasy: `issubclass(bool, int)` będzie prawdą - `True`, ponieważ `bool` jest podklasą `int`, jednakże `issubclass(float, int)` jest Fałszem, ponieważ `float` nie jest podklasą `int`.\n",
    "\n",
    "\n",
    "\n",
    "#### Przykład."
   ]
  },
  {
   "cell_type": "code",
   "execution_count": null,
   "metadata": {},
   "outputs": [],
   "source": [
    "class Student:  # klasa bazowa\n",
    "    last_index = 0  # atrybut klasy\n",
    "    \n",
    "    def __init__(self, name,last_name):\n",
    "        Student.last_index += 1  # lub self.__class__.last_index += 1   - zmiana numeru indeksu \n",
    "        self.name = name\n",
    "        self.last_name = last_name\n",
    "        self.index = Student.last_index  # lub self.__class__.last_index   - przypisanie numeru indeksu do studenta\n",
    "    \n",
    "    def __str__(self):\n",
    "        return \"Student {} {} (nr indeksu: {})\".format(self.name,self.last_name,self.index)\n",
    "    \n",
    "class SInformatyk(Student):  # klasa pochodna\n",
    "    def __init__(self, name,last_name):\n",
    "        Student.last_index += 1          # zmiana numeru indeksu - atrybut klasy bazowej\n",
    "        self.name = name                 # przesłonięcie składowej name z klasy bazowej\n",
    "        self.last_name = last_name       # przesłonięcie składowej last.name z klasy bazowej\n",
    "        self.index = Student.last_index  # przypisanie numeru indeksu do studenta\n",
    "        self.kierunek = 'Informatyka'\n",
    "    def __str__(self):                   # redefinicja metody __str__() z klasy bazowej\n",
    "        return \"Student informatyki {} {} (nr indeksu: {})\".format(self.name,self.last_name,self.index)  "
   ]
  },
  {
   "cell_type": "code",
   "execution_count": null,
   "metadata": {},
   "outputs": [],
   "source": [
    "a = Student('Karol','Górski')\n",
    "b = SInformatyk('Maria','Nowak')\n",
    "print(a)\n",
    "print(b)"
   ]
  },
  {
   "cell_type": "markdown",
   "metadata": {
    "deletable": false,
    "editable": false,
    "nbgrader": {
     "cell_type": "markdown",
     "checksum": "357e8a232a0d723295e4ec880fffd23a",
     "grade": false,
     "grade_id": "cell-9dbe15454379d82f",
     "locked": true,
     "schema_version": 3,
     "solution": false,
     "task": false
    }
   },
   "source": [
    "Możliwe jest wywołanie konstruktora klasy nadrzędnej, służy do tego metoda wbudowana `super()`."
   ]
  },
  {
   "cell_type": "code",
   "execution_count": null,
   "metadata": {},
   "outputs": [],
   "source": [
    "class Student:  # klasa bazowa\n",
    "    last_index = 0  # atrybut klasy\n",
    "    \n",
    "    def __init__(self, name,last_name):\n",
    "        Student.last_index += 1           # zmiana numeru indeksu\n",
    "        self.name = name\n",
    "        self.last_name = last_name\n",
    "        self.index = Student.last_index  # przypisanie numeru indeksu do studenta\n",
    "    \n",
    "    def __str__(self):\n",
    "        return \"Student {} {} (nr indeksu: {})\".format(self.name,self.last_name,self.index)\n",
    "    \n",
    "class SInformatyk(Student):  # klasa pochodna\n",
    "    def __init__(self, name,last_name):\n",
    "        super().__init__(name,last_name)  # lub super(SMatematyk,self).__init__(name,last_name)\n",
    "        self.kierunek = 'Informatyka'\n",
    "    \n",
    "    def __str__(self):  # redefinicja metody __str__()\n",
    "        return \"Student informatyki {} {} (nr indeksu: {})\".format(self.name,self.last_name,self.index)  "
   ]
  },
  {
   "cell_type": "code",
   "execution_count": null,
   "metadata": {},
   "outputs": [],
   "source": [
    "a = Student('Karol','Górski')\n",
    "b = SInformatyk('Maria','Nowak')\n",
    "print(a)\n",
    "print(b)"
   ]
  },
  {
   "cell_type": "code",
   "execution_count": null,
   "metadata": {},
   "outputs": [],
   "source": [
    "print(isinstance(b, Student)) #sprawdza czy b jest obiektem klasy Student lub klasy pochodnej\n",
    "print(issubclass(Student,SInformatyk))#sprawdza czy klasa Student jest podklasą klasy SInformatyk"
   ]
  },
  {
   "cell_type": "code",
   "execution_count": null,
   "metadata": {},
   "outputs": [],
   "source": [
    "class Mapping: #klasa bazowa\n",
    "    def __init__(self, iterable):\n",
    "        self.items_list = []\n",
    "        self.__update(iterable)\n",
    "        \n",
    "    def update(self, iterable):\n",
    "        for item in iterable:\n",
    "            self.items_list.append(item)\n",
    "            \n",
    "    __update = update #prywatna kopia metody update\n",
    "    \n",
    "class MappingSubclass(Mapping): #klasa pochodna\n",
    "    def update(self, keys, values):  # redefinicja metody update, __init()__ bez zmian\n",
    "        for item in zip(keys, values):\n",
    "            self.items_list.append(item)\n",
    "    \n",
    "a = Mapping('ala') #konkretyzacja klasy Mapping\n",
    "b = MappingSubclass('ola') #konkretyzacja klasy MappingSubclass\n",
    "print(a.items_list, b.items_list)\n",
    "\n",
    "k = [1, 2, 3]\n",
    "v = [4, 5, 6]\n",
    "\n",
    "a.update(k)           #instacja klasy bazowej - odwołanie do metody klasy bazowej\n",
    "print(a.items_list)\n",
    "b.update(k,v)         #instancja klasy pochodnej - odwołanie do metody klasy pochodnej\n",
    "print(b.items_list)\n",
    "b._Mapping__update(k) #instancja klasy pochodnej - odwołanie do metody klasy bazowej\n",
    "print(b.items_list)"
   ]
  },
  {
   "cell_type": "markdown",
   "metadata": {
    "deletable": false,
    "editable": false,
    "nbgrader": {
     "cell_type": "markdown",
     "checksum": "9bb818787461607b8dd9b4ccfae8f149",
     "grade": false,
     "grade_id": "cell-6c40011078f3a987",
     "locked": true,
     "schema_version": 3,
     "solution": false,
     "task": false
    }
   },
   "source": [
    "### Ćwiczenie 3b\n",
    "\n",
    "Napisz program tworzący klasę bazową  `Biblioteka`, która zawiera atrybuty: \n",
    "\n",
    "- składowe: `tytul`, `cena`, `liczba_szt`.\n",
    "- metodę: `opis` wyświetlającą ww atrybuty.\n",
    "\n",
    "Utwórz klasy pochodne względem klasy bazowej `Biblioteka`:\n",
    "\n",
    "- `Ksiazka` - posiada dodatkowe składowe: `aut_imie`, `aut_nazwisko`, `liczba_stron`\n",
    "\n",
    "- `Film` - posiada dodatkowe składowe:  `rok_prod`, `czas` (w minutach), `format_filmu`\n",
    "\n",
    "Klasy pochodna `Ksiazka` powinna mieć metodę `opis` wyświetlającą wszyskie składowe zaimplementowaną tak, aby wykorzystać kod metody `opis` z klasy bazowej.\n",
    "\n",
    "Klasy pochodna `Film` powinna mieć metodę `opis` wyświetlającą wszyskie składowe zaimplementowaną tak, aby przeciążyć metodę `opis` z klasy bazowej."
   ]
  },
  {
   "cell_type": "code",
   "execution_count": null,
   "metadata": {
    "deletable": false,
    "nbgrader": {
     "cell_type": "code",
     "checksum": "308e49bb3f698bfbaf212121d0aa6bdb",
     "grade": false,
     "grade_id": "cell-eb2f39554f328406",
     "locked": false,
     "schema_version": 3,
     "solution": true,
     "task": false
    }
   },
   "outputs": [],
   "source": [
    "# YOUR CODE HERE\n",
    "raise NotImplementedError()\n",
    "\n",
    "k = Ksiazka('Pan Tadeusz', '35 zł', 15, 'Adam','Mickiewicz',253)\n",
    "k.opis()  \n",
    "f = Film('Pan Tadeusz', '25 zł', 3, '1928','128 minut', 'avi')\n",
    "f.opis()"
   ]
  },
  {
   "cell_type": "markdown",
   "metadata": {
    "deletable": false,
    "editable": false,
    "nbgrader": {
     "cell_type": "markdown",
     "checksum": "abbdb56523bd2ba1d98357e5c69ae6d7",
     "grade": false,
     "grade_id": "cell-f18e6b149d9619b1",
     "locked": true,
     "schema_version": 3,
     "solution": false,
     "task": false
    }
   },
   "source": [
    "### Dziedziczenie wielbazowe\n",
    "\n",
    "Możliwe jest dziedziczenie po więcej niż jednej klasie.\n",
    "\n",
    "```python\n",
    "class NazwaKlasyPochodnej(Bazowa1, Bazowa2, Bazowa3):\n",
    "    <instrukcja-1>\n",
    "    .\n",
    "    .\n",
    "    <instrukcja-n>\n",
    "```\n",
    "\n",
    "Przy dziedziczeniu obowiązuje zasada `najpierw w głąb, potem na prawo`. \n",
    "\n",
    "Jeśli atrybut nie zostanie znaleziony w klasie `NazwaKlasyPochodnej`, zostanie poszukany w `Bazowa1`, a potem (rekurencyjnie) w klasach bazowych klasy `Bazowa1` i jeśli tam nie zostanie znaleziony, poszukiwanie zostanie przeniesione do klasy `Bazowa2`."
   ]
  },
  {
   "cell_type": "code",
   "execution_count": null,
   "metadata": {},
   "outputs": [],
   "source": [
    "class Mama:\n",
    "    m = 'jestem piękna'\n",
    "    t = 'jestem mądra'\n",
    "    \n",
    "class Tata:\n",
    "    t = 'jestem bogaty'"
   ]
  },
  {
   "cell_type": "code",
   "execution_count": null,
   "metadata": {},
   "outputs": [],
   "source": [
    "class Corka(Mama, Tata):  # dziedziczy po klasie Mama i Tata (Mama \"ważniejsza\")\n",
    "    pass\n",
    "\n",
    "c = Corka()\n",
    "print(c.m, c.t)"
   ]
  },
  {
   "cell_type": "code",
   "execution_count": null,
   "metadata": {},
   "outputs": [],
   "source": [
    "class Corka(Tata, Mama): # dziedziczy po klasie Tata i Mama (Tata \"ważniejszy\")\n",
    "    pass\n",
    "\n",
    "c = Corka()\n",
    "print(c.m, c.t)"
   ]
  },
  {
   "cell_type": "markdown",
   "metadata": {
    "deletable": false,
    "editable": false,
    "nbgrader": {
     "cell_type": "markdown",
     "checksum": "104288ab21f5c52313c56d95eb2b27e7",
     "grade": false,
     "grade_id": "cell-573689df8ba937d7",
     "locked": true,
     "schema_version": 3,
     "solution": false,
     "task": false
    }
   },
   "source": [
    "### Polimorfizm.\n",
    "\n",
    "Generalna zasada: ta sama metoda, różne działanie zależne od typu obiektu.\n",
    "\n",
    "Polimorfizm zmniejsza złożoność programu i polepsza jego czytelność. "
   ]
  },
  {
   "cell_type": "code",
   "execution_count": null,
   "metadata": {},
   "outputs": [],
   "source": [
    "class Zwierze:\n",
    "    def glos(self):  # pusta metoda głos\n",
    "        pass\n",
    "    \n",
    "class Kot(Zwierze):\n",
    "    def glos(self):\n",
    "        print(\"Miau\")\n",
    "\n",
    "class Pies(Zwierze):\n",
    "    def glos(self):\n",
    "        print(\"Hau\")\n",
    "\n",
    "class Krowa(Zwierze):\n",
    "    def glos(self):  # pusta metoda\n",
    "        pass    "
   ]
  },
  {
   "cell_type": "code",
   "execution_count": null,
   "metadata": {},
   "outputs": [],
   "source": [
    "zwierze = Kot()\n",
    "zwierze.glos()\n",
    "zwierze = Pies()\n",
    "zwierze.glos()\n",
    "zwierze = Krowa()\n",
    "zwierze.glos()"
   ]
  },
  {
   "cell_type": "markdown",
   "metadata": {
    "deletable": false,
    "editable": false,
    "nbgrader": {
     "cell_type": "markdown",
     "checksum": "e255cda0f442b9b12c6825dd982342ce",
     "grade": false,
     "grade_id": "cell-3c1af16cabcad94c",
     "locked": true,
     "schema_version": 3,
     "solution": false,
     "task": false
    }
   },
   "source": [
    "Wymuszanie interfejsu"
   ]
  },
  {
   "cell_type": "code",
   "execution_count": null,
   "metadata": {},
   "outputs": [],
   "source": [
    "class Zwierze:\n",
    "    def glos(self): # wymuszenie interfejsu \n",
    "        raise NotImplementedError(\"Każde zwierzę musi mieć głos\")\n",
    "        \n",
    "class Kot(Zwierze):\n",
    "    def glos(self):\n",
    "        print(\"Miau\")\n",
    "        \n",
    "class Pies(Zwierze):\n",
    "    def glos(self):\n",
    "        print(\"Hau\")\n",
    "        \n",
    "class Ryba(Zwierze):\n",
    "    def glos(self):  # pusta metoda glos - ok - ryby głosu nie mają\n",
    "        pass\n",
    "    \n",
    "class Krowa(Zwierze):\n",
    "    pass    # brak metody glos - błąd"
   ]
  },
  {
   "cell_type": "code",
   "execution_count": null,
   "metadata": {},
   "outputs": [],
   "source": [
    "zwierze = Kot()\n",
    "zwierze.glos()\n",
    "zwierze = Pies()\n",
    "zwierze.glos()\n",
    "zwierze = Ryba()\n",
    "zwierze.glos()"
   ]
  },
  {
   "cell_type": "code",
   "execution_count": null,
   "metadata": {},
   "outputs": [],
   "source": [
    "zwierze = Krowa()\n",
    "zwierze.glos()"
   ]
  },
  {
   "cell_type": "markdown",
   "metadata": {
    "deletable": false,
    "editable": false,
    "nbgrader": {
     "cell_type": "markdown",
     "checksum": "18095f403d4dccff76a40d5a460a30ac",
     "grade": false,
     "grade_id": "cell-247bbc3b5acf4ca3",
     "locked": true,
     "schema_version": 3,
     "solution": false,
     "task": false
    }
   },
   "source": [
    "## Zadanie 1b\n",
    "\n",
    "Utwórz klasę `Moneta` zawierającą prywatne pola opisujące jej wartość i walutę (`PLN`, `EUR`, `GP` itp), metodę do pobrania wartości oraz konstruktor ustawiający wartość monety na wartość przesłaną jako argument. Konstruktor dodatkowo powinien sprawdzać, czy moneta jest jedną z dozwolonych: 0.01zł, 0.02zł, 0.05zł, 0.1zł, 0.2zł, 0.5zł, 1zł, 2zł lub 5zł. Jeśli tak nie jest, wartość ustalana jest na 0zł.\n",
    "Do zapamiętania/przechowania liczby zmiennoprzecinkowej użyj modułu `decimal`.\n",
    "\n",
    "https://docs.python.org/3/library/decimal.html?highlight=decimal#module-decimal\n",
    "\n",
    "https://docs.python.org/3/tutorial/classes.html#a-first-look-at-classes\n"
   ]
  },
  {
   "cell_type": "code",
   "execution_count": null,
   "metadata": {
    "deletable": false,
    "nbgrader": {
     "cell_type": "code",
     "checksum": "4d6d301125af0e9bd2254e06ab3723cf",
     "grade": true,
     "grade_id": "cell-1dd517e4d49fbfbb",
     "locked": false,
     "points": 1,
     "schema_version": 3,
     "solution": true,
     "task": false
    }
   },
   "outputs": [],
   "source": [
    "from decimal import *\n",
    "# YOUR CODE HERE\n",
    "raise NotImplementedError()"
   ]
  },
  {
   "cell_type": "markdown",
   "metadata": {
    "deletable": false,
    "editable": false,
    "nbgrader": {
     "cell_type": "markdown",
     "checksum": "8fc60fc50c4e616c6cb4e9596c93f68c",
     "grade": false,
     "grade_id": "cell-be691cf1f8f9dcac",
     "locked": true,
     "schema_version": 3,
     "solution": false,
     "task": false
    }
   },
   "source": [
    "## Zadanie 2b\n",
    "Utwórz klasę `Skarbonka` pozwalającą na przechowywanie monet z zadania 1 w prywatnej liście tylko dla jednej waluty. \n",
    "Do klasy `Skarbonka` dodaj prywatne __pole klasy__ opisujące obsługiwaną walutę (np. tylko `PLN`). Jeśli użytkownik wrzuci monetę innej waluty niż obsługiwana, to powinien zostać wypisany tekst \"Nieznana moneta\".\n",
    "Klasa ta powinna zawierać metodę pozwalającą na dodanie monety, oraz metodę zwracającą łączną wartość pieniędzy w skarbonce. Metoda dodająca monetę powinna sprawdzać, czy przesłany obiekt jest monetą (wykorzystując funkcję `isinstance()`). Jeśli obiekt nie jest monetą, funkcja zamiast dodawać go do listy monet powinna wypisać komunikat: `\"Przesłany obiekt nie jest monetą\"`. \n",
    "\n",
    "https://docs.python.org/3/tutorial/classes.html#class-and-instance-variables"
   ]
  },
  {
   "cell_type": "code",
   "execution_count": null,
   "metadata": {
    "deletable": false,
    "nbgrader": {
     "cell_type": "code",
     "checksum": "138d9e2766a3467b122dd36439ac6702",
     "grade": true,
     "grade_id": "cell-6b83d790d294f982",
     "locked": false,
     "points": 1,
     "schema_version": 3,
     "solution": true,
     "task": false
    }
   },
   "outputs": [],
   "source": [
    "# YOUR CODE HERE\n",
    "raise NotImplementedError()"
   ]
  },
  {
   "cell_type": "markdown",
   "metadata": {
    "deletable": false,
    "editable": false,
    "nbgrader": {
     "cell_type": "markdown",
     "checksum": "ba9e8409135dc5f468bbd19ff82b14d7",
     "grade": false,
     "grade_id": "cell-266f0ca3658c9054",
     "locked": true,
     "schema_version": 3,
     "solution": false,
     "task": false
    }
   },
   "source": [
    "## Zadanie 3b\n",
    "\n",
    "Utwórz klasę `PrzechowywaczMonet` pozwalającą na przechowywanie monet z zadania 1b. Klasa ta powinna zawierać metody:\n",
    "1. Pozwalającą na dodanie monety,\n",
    "2. Zwracającą łączną wartość przechowywanych monet,\n",
    "3. Zwracającą monetę o podanym nominale (moneta jest usuwana z przechowywacza).\n",
    "\n",
    "`PrzechowywaczMonet` powinien posiadać prywatne pole instancji zawierające listę obsługiwanych monet, przesyłaną jako argument konstruktora.\n",
    "Zmodyfikuj klasę `Skarbonka` z zadania 2. tak, aby dziedziczyła po klasie `PrzechowywaczMonet`. \n",
    "Nadpisz w niej metodę zwracającą monetę tak, aby wypisywany był błąd `\"Nie można wyciągnąć pojedynczej monety\"`."
   ]
  },
  {
   "cell_type": "code",
   "execution_count": null,
   "metadata": {
    "deletable": false,
    "nbgrader": {
     "cell_type": "code",
     "checksum": "e30ffa26cc2591f7137e9c047a99a05f",
     "grade": true,
     "grade_id": "cell-d62187a728b0161e",
     "locked": false,
     "points": 1,
     "schema_version": 3,
     "solution": true,
     "task": false
    }
   },
   "outputs": [],
   "source": [
    "# YOUR CODE HERE\n",
    "raise NotImplementedError()"
   ]
  },
  {
   "cell_type": "markdown",
   "metadata": {
    "deletable": false,
    "editable": false,
    "nbgrader": {
     "cell_type": "markdown",
     "checksum": "84fcf4a1743720026de551934bd50919",
     "grade": false,
     "grade_id": "cell-c273cce6174cf105",
     "locked": true,
     "schema_version": 3,
     "solution": false,
     "task": false
    }
   },
   "source": [
    "## Zadanie 4b\n",
    "\n",
    "Utwórz klasę `ZlotaSkarbonka` dziedziczącą po klasach `Skarbonka` oraz `Moneta`. \n",
    "Konstruktor klasy `ZlotaSkarbonka` powinien wywoływać konstruktory klas po których dziedziczy i ustawić wartość złotej skarbonki jako monety na 9000zł.\n",
    "Co się stanie gdy wrzucimy złotą skarbonkę do niej samej?\n"
   ]
  },
  {
   "cell_type": "code",
   "execution_count": null,
   "metadata": {
    "deletable": false,
    "nbgrader": {
     "cell_type": "code",
     "checksum": "10f286353cf19b9a8fc4c78e4dd7b4de",
     "grade": true,
     "grade_id": "cell-d077aa3412d74f03",
     "locked": false,
     "points": 1,
     "schema_version": 3,
     "solution": true,
     "task": false
    }
   },
   "outputs": [],
   "source": [
    "# YOUR CODE HERE\n",
    "raise NotImplementedError()"
   ]
  },
  {
   "cell_type": "markdown",
   "metadata": {
    "deletable": false,
    "editable": false,
    "nbgrader": {
     "cell_type": "markdown",
     "checksum": "7d8f02282e61a679fc393ca3e6d837b6",
     "grade": false,
     "grade_id": "cell-dee6902b47c4859b",
     "locked": true,
     "schema_version": 3,
     "solution": false,
     "task": false
    }
   },
   "source": [
    "## Zadanie 5b\n",
    "Utwórz klasę `Numizmatyk`, zawierającą metody:\n",
    "1. `identyfikuj`, przyjmującą jako argument monetę,\n",
    "2. `sprzedaj`, przyjmującą jako argument monetę, \"sprzedaje\" monetę jeśli ma wartość numizmatyczną i zwraca listę monet, które za nią otrzymano bądź zwraca monetę, jeśli nie ma wartości numizmatycznej\n",
    "3. `transmutuj`, przyjmującą jako argument monetę.\n",
    "\n",
    "Metoda `identyfikuj` powinna ustawiać pole zidentyfikowany przesłanego obiektu na wartość `True`, generować losową liczbę oznaczającą datę produkcji monety (od 1900 do 2020, z większą szansą na monetę młodą, niż starą - można użyć metody `random.triangular`), oraz ustawiać wartość numizmatyczną (pole `wartosc_numizmatyczna`). Jeśli moneta została wyprodukowana przed 1939 rokiem, jej wartość numizmatyczna wynosi 1000zł, a jeśli przed 1914 rokiem, to 2000zł. Wartość\n",
    "numizmatyczna młodszych monet wynosi 0zł. Jeśli moneta została już zidentyfikowana, metoda ta nie robi nic (wykorzystaj funkcję `hasattr`).\n",
    "\n",
    "Metoda `sprzedaj` powinna identyfikować monetę, jeśli nie została zidentyfikowana, oraz zwracać listę monet odpowiadającą wartości numizmatycznej przesłanej monety. Zwracane monety (zakładamy, że numizmatyk ma nieograniczony dostęp do współczesnych monet każdego nominału) powinny być zidentyfikowane, o wartości numizmatycznej równej 0zł. Jeśli moneta nie \n",
    "ma żadnej wartości dla numizmatyka, to jest ona zwracana.\n",
    "\n",
    "Metoda `transmutuj` ustawia pole zidentyfikowany na `False` oraz usuwa pole `wartosc_numizmatyczna` (wykorzystaj del).\n",
    "\n",
    "Utwórz obiekt klasy `Numizmatyk` oraz listę losowych monet. Zidentyfikuj monety, sprzedaj te o niezerowej wartości numizmatycznej, a pozostałe transmutuj. Numizmatyk identyfikuje monety za darmo.\n",
    "\n",
    "https://docs.python.org/3/library/random.html#random.triangular\n",
    "\n",
    "https://docs.python.org/3/library/functions.html#hasattr\n"
   ]
  },
  {
   "cell_type": "code",
   "execution_count": null,
   "metadata": {
    "deletable": false,
    "nbgrader": {
     "cell_type": "code",
     "checksum": "4ee83e68f77d48efaeb1621c20df96e1",
     "grade": true,
     "grade_id": "cell-578906c3cb49cc43",
     "locked": false,
     "points": 1,
     "schema_version": 3,
     "solution": true,
     "task": false
    }
   },
   "outputs": [],
   "source": [
    "import random\n",
    "# YOUR CODE HERE\n",
    "raise NotImplementedError()"
   ]
  },
  {
   "cell_type": "markdown",
   "metadata": {
    "deletable": false,
    "editable": false,
    "nbgrader": {
     "cell_type": "markdown",
     "checksum": "7ff7d19f6180bea0316dccd7107098ef",
     "grade": false,
     "grade_id": "cell-1daf413104fb82f6",
     "locked": true,
     "schema_version": 3,
     "solution": false,
     "task": false
    }
   },
   "source": [
    "## Zadanie 6b\n",
    "Dodaj interfejs graficzny do `skarbonki`, wykorzystując bibliotekę `TkInter`.\n",
    "Przykład.\n",
    "\n",
    "```python\n",
    "from tkinter import *\n",
    "from tkinter import ttk\n",
    "# Tworzenie okna\n",
    "window=Tk()\n",
    "window.title(\"Skarbonka\")\n",
    "# Tworzenie siatki na przyciski\n",
    "mainframe=ttk.Frame(window)\n",
    "# Umieszczenie siatki w oknie\n",
    "mainframe.grid(column=0, row=0, sticky=(N, W, E, S))\n",
    "# Dodanie przycisków do wrzucania monet\n",
    "i=0\n",
    "for c in COINS:\n",
    "    ttk.Button(mainframe, text=\"Wrzuć \"+str(c)+\"zł\", command=lambda c=c: pb.add(Coin(c))).grid(column=2, row=i)\n",
    "    i+=1\n",
    "# Dodanie przycisku sprawdzenia wartości zawartości\n",
    "ttk.Button(mainframe, text=\"Przerwij\", command=lambda: print(pb.value()) ).grid(column=1, row=0)\n",
    "window.mainloop()\n",
    "```\n"
   ]
  },
  {
   "cell_type": "code",
   "execution_count": null,
   "metadata": {
    "deletable": false,
    "nbgrader": {
     "cell_type": "code",
     "checksum": "db799ca6e3182e5d4029f4e47d604c65",
     "grade": true,
     "grade_id": "cell-09568f4c7514c8d7",
     "locked": false,
     "points": 1,
     "schema_version": 3,
     "solution": true,
     "task": false
    }
   },
   "outputs": [],
   "source": [
    "# YOUR CODE HERE\n",
    "raise NotImplementedError()"
   ]
  },
  {
   "cell_type": "code",
   "execution_count": null,
   "metadata": {},
   "outputs": [],
   "source": []
  },
  {
   "cell_type": "markdown",
   "metadata": {
    "deletable": false,
    "editable": false,
    "nbgrader": {
     "cell_type": "markdown",
     "checksum": "b89497679e5fdb6f08b51808ee3dbe46",
     "grade": false,
     "grade_id": "cell-e22be4ce9286c4d9",
     "locked": true,
     "schema_version": 3,
     "solution": false
    }
   },
   "source": [
    "<div style=\"text-align: right\">&copy; Katedra Informatyki, Politechnika Krakowska </div>"
   ]
  }
 ],
 "metadata": {
  "kernelspec": {
   "display_name": "Python 3",
   "language": "python",
   "name": "python3"
  },
  "language_info": {
   "codemirror_mode": {
    "name": "ipython",
    "version": 3
   },
   "file_extension": ".py",
   "mimetype": "text/x-python",
   "name": "python",
   "nbconvert_exporter": "python",
   "pygments_lexer": "ipython3",
   "version": "3.8.8"
  }
 },
 "nbformat": 4,
 "nbformat_minor": 2
}
